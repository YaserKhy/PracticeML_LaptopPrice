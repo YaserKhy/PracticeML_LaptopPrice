{
  "nbformat": 4,
  "nbformat_minor": 0,
  "metadata": {
    "colab": {
      "provenance": []
    },
    "kernelspec": {
      "name": "python3",
      "display_name": "Python 3"
    },
    "language_info": {
      "name": "python"
    }
  },
  "cells": [
    {
      "cell_type": "markdown",
      "source": [
        "# Welcome !\n",
        "In this notebook, we will build regression models to predict laptop prices based on some features like brand, operating system, weight, etc..\n",
        "\n",
        "[Click to view dataset](https://www.kaggle.com/datasets/anubhavgoyal10/laptop-prices-dataset)"
      ],
      "metadata": {
        "id": "9fN6fkLcxry3"
      }
    },
    {
      "cell_type": "markdown",
      "source": [
        "# 1. Data Exploration and Preprocessing"
      ],
      "metadata": {
        "id": "BRrwprc8JDxu"
      }
    },
    {
      "cell_type": "markdown",
      "source": [
        "### 1.1 Import Libraries"
      ],
      "metadata": {
        "id": "OICvsJ4rJ0iq"
      }
    },
    {
      "cell_type": "code",
      "source": [
        "# Data Manipulation\n",
        "import numpy as np\n",
        "import pandas as pd\n",
        "\n",
        "# Data Visualization\n",
        "import matplotlib.pyplot as plt\n",
        "import seaborn as sns\n",
        "\n",
        "# ML\n",
        "from sklearn.model_selection import train_test_split\n",
        "from sklearn.linear_model import LinearRegression\n",
        "from sklearn.tree import DecisionTreeRegressor\n",
        "from sklearn.ensemble import RandomForestRegressor\n",
        "from sklearn.metrics import mean_squared_error, r2_score\n",
        "from sklearn.preprocessing import LabelEncoder"
      ],
      "metadata": {
        "id": "q3v-EUwDsKUf"
      },
      "execution_count": 1,
      "outputs": []
    },
    {
      "cell_type": "markdown",
      "source": [
        "### 1.2 Read Dataset"
      ],
      "metadata": {
        "id": "QnNVR62nxtQO"
      }
    },
    {
      "cell_type": "code",
      "source": [
        "# !kaggle datasets download -d anubhavgoyal10/laptop-prices-dataset\n",
        "# !unzip laptop-prices-dataset.zip"
      ],
      "metadata": {
        "id": "FdSBQBaDIbFv"
      },
      "execution_count": 2,
      "outputs": []
    },
    {
      "cell_type": "code",
      "source": [
        "df = pd.read_csv('laptopPrice.csv')"
      ],
      "metadata": {
        "id": "97oFT16JxcJj"
      },
      "execution_count": 3,
      "outputs": []
    },
    {
      "cell_type": "markdown",
      "source": [
        "### 1.3 Explore and Preprocess"
      ],
      "metadata": {
        "id": "WfsB5cV9xuo6"
      }
    },
    {
      "cell_type": "markdown",
      "source": [
        "Using `df.info()`, we can gain initial information about the dataset columns (features) and their datatypes."
      ],
      "metadata": {
        "id": "zkaNvIwgKgyz"
      }
    },
    {
      "cell_type": "code",
      "source": [
        "df.info()"
      ],
      "metadata": {
        "colab": {
          "base_uri": "https://localhost:8080/"
        },
        "id": "SSuDWCrWH0FO",
        "outputId": "88af7dcb-316c-4f04-e5b2-1fa2d0fcf22b"
      },
      "execution_count": 4,
      "outputs": [
        {
          "output_type": "stream",
          "name": "stdout",
          "text": [
            "<class 'pandas.core.frame.DataFrame'>\n",
            "RangeIndex: 823 entries, 0 to 822\n",
            "Data columns (total 19 columns):\n",
            " #   Column             Non-Null Count  Dtype \n",
            "---  ------             --------------  ----- \n",
            " 0   brand              823 non-null    object\n",
            " 1   processor_brand    823 non-null    object\n",
            " 2   processor_name     823 non-null    object\n",
            " 3   processor_gnrtn    823 non-null    object\n",
            " 4   ram_gb             823 non-null    object\n",
            " 5   ram_type           823 non-null    object\n",
            " 6   ssd                823 non-null    object\n",
            " 7   hdd                823 non-null    object\n",
            " 8   os                 823 non-null    object\n",
            " 9   os_bit             823 non-null    object\n",
            " 10  graphic_card_gb    823 non-null    object\n",
            " 11  weight             823 non-null    object\n",
            " 12  warranty           823 non-null    object\n",
            " 13  Touchscreen        823 non-null    object\n",
            " 14  msoffice           823 non-null    object\n",
            " 15  Price              823 non-null    int64 \n",
            " 16  rating             823 non-null    object\n",
            " 17  Number of Ratings  823 non-null    int64 \n",
            " 18  Number of Reviews  823 non-null    int64 \n",
            "dtypes: int64(3), object(16)\n",
            "memory usage: 122.3+ KB\n"
          ]
        }
      ]
    },
    {
      "cell_type": "code",
      "source": [
        "df.describe()"
      ],
      "metadata": {
        "colab": {
          "base_uri": "https://localhost:8080/",
          "height": 300
        },
        "id": "RJmsD9WfdDYd",
        "outputId": "b270b8f0-e065-45c3-cb4f-a744ed2051f4"
      },
      "execution_count": 5,
      "outputs": [
        {
          "output_type": "execute_result",
          "data": {
            "text/plain": [
              "               Price  Number of Ratings  Number of Reviews\n",
              "count     823.000000         823.000000         823.000000\n",
              "mean    76745.177400         315.301337          37.609964\n",
              "std     45101.790525        1047.382654         121.728017\n",
              "min     16990.000000           0.000000           0.000000\n",
              "25%     46095.000000           0.000000           0.000000\n",
              "50%     64990.000000          17.000000           2.000000\n",
              "75%     89636.000000         139.500000          18.000000\n",
              "max    441990.000000       15279.000000        1947.000000"
            ],
            "text/html": [
              "\n",
              "  <div id=\"df-7c43537e-c9ea-4c0d-9d76-48ee35ed1edd\" class=\"colab-df-container\">\n",
              "    <div>\n",
              "<style scoped>\n",
              "    .dataframe tbody tr th:only-of-type {\n",
              "        vertical-align: middle;\n",
              "    }\n",
              "\n",
              "    .dataframe tbody tr th {\n",
              "        vertical-align: top;\n",
              "    }\n",
              "\n",
              "    .dataframe thead th {\n",
              "        text-align: right;\n",
              "    }\n",
              "</style>\n",
              "<table border=\"1\" class=\"dataframe\">\n",
              "  <thead>\n",
              "    <tr style=\"text-align: right;\">\n",
              "      <th></th>\n",
              "      <th>Price</th>\n",
              "      <th>Number of Ratings</th>\n",
              "      <th>Number of Reviews</th>\n",
              "    </tr>\n",
              "  </thead>\n",
              "  <tbody>\n",
              "    <tr>\n",
              "      <th>count</th>\n",
              "      <td>823.000000</td>\n",
              "      <td>823.000000</td>\n",
              "      <td>823.000000</td>\n",
              "    </tr>\n",
              "    <tr>\n",
              "      <th>mean</th>\n",
              "      <td>76745.177400</td>\n",
              "      <td>315.301337</td>\n",
              "      <td>37.609964</td>\n",
              "    </tr>\n",
              "    <tr>\n",
              "      <th>std</th>\n",
              "      <td>45101.790525</td>\n",
              "      <td>1047.382654</td>\n",
              "      <td>121.728017</td>\n",
              "    </tr>\n",
              "    <tr>\n",
              "      <th>min</th>\n",
              "      <td>16990.000000</td>\n",
              "      <td>0.000000</td>\n",
              "      <td>0.000000</td>\n",
              "    </tr>\n",
              "    <tr>\n",
              "      <th>25%</th>\n",
              "      <td>46095.000000</td>\n",
              "      <td>0.000000</td>\n",
              "      <td>0.000000</td>\n",
              "    </tr>\n",
              "    <tr>\n",
              "      <th>50%</th>\n",
              "      <td>64990.000000</td>\n",
              "      <td>17.000000</td>\n",
              "      <td>2.000000</td>\n",
              "    </tr>\n",
              "    <tr>\n",
              "      <th>75%</th>\n",
              "      <td>89636.000000</td>\n",
              "      <td>139.500000</td>\n",
              "      <td>18.000000</td>\n",
              "    </tr>\n",
              "    <tr>\n",
              "      <th>max</th>\n",
              "      <td>441990.000000</td>\n",
              "      <td>15279.000000</td>\n",
              "      <td>1947.000000</td>\n",
              "    </tr>\n",
              "  </tbody>\n",
              "</table>\n",
              "</div>\n",
              "    <div class=\"colab-df-buttons\">\n",
              "\n",
              "  <div class=\"colab-df-container\">\n",
              "    <button class=\"colab-df-convert\" onclick=\"convertToInteractive('df-7c43537e-c9ea-4c0d-9d76-48ee35ed1edd')\"\n",
              "            title=\"Convert this dataframe to an interactive table.\"\n",
              "            style=\"display:none;\">\n",
              "\n",
              "  <svg xmlns=\"http://www.w3.org/2000/svg\" height=\"24px\" viewBox=\"0 -960 960 960\">\n",
              "    <path d=\"M120-120v-720h720v720H120Zm60-500h600v-160H180v160Zm220 220h160v-160H400v160Zm0 220h160v-160H400v160ZM180-400h160v-160H180v160Zm440 0h160v-160H620v160ZM180-180h160v-160H180v160Zm440 0h160v-160H620v160Z\"/>\n",
              "  </svg>\n",
              "    </button>\n",
              "\n",
              "  <style>\n",
              "    .colab-df-container {\n",
              "      display:flex;\n",
              "      gap: 12px;\n",
              "    }\n",
              "\n",
              "    .colab-df-convert {\n",
              "      background-color: #E8F0FE;\n",
              "      border: none;\n",
              "      border-radius: 50%;\n",
              "      cursor: pointer;\n",
              "      display: none;\n",
              "      fill: #1967D2;\n",
              "      height: 32px;\n",
              "      padding: 0 0 0 0;\n",
              "      width: 32px;\n",
              "    }\n",
              "\n",
              "    .colab-df-convert:hover {\n",
              "      background-color: #E2EBFA;\n",
              "      box-shadow: 0px 1px 2px rgba(60, 64, 67, 0.3), 0px 1px 3px 1px rgba(60, 64, 67, 0.15);\n",
              "      fill: #174EA6;\n",
              "    }\n",
              "\n",
              "    .colab-df-buttons div {\n",
              "      margin-bottom: 4px;\n",
              "    }\n",
              "\n",
              "    [theme=dark] .colab-df-convert {\n",
              "      background-color: #3B4455;\n",
              "      fill: #D2E3FC;\n",
              "    }\n",
              "\n",
              "    [theme=dark] .colab-df-convert:hover {\n",
              "      background-color: #434B5C;\n",
              "      box-shadow: 0px 1px 3px 1px rgba(0, 0, 0, 0.15);\n",
              "      filter: drop-shadow(0px 1px 2px rgba(0, 0, 0, 0.3));\n",
              "      fill: #FFFFFF;\n",
              "    }\n",
              "  </style>\n",
              "\n",
              "    <script>\n",
              "      const buttonEl =\n",
              "        document.querySelector('#df-7c43537e-c9ea-4c0d-9d76-48ee35ed1edd button.colab-df-convert');\n",
              "      buttonEl.style.display =\n",
              "        google.colab.kernel.accessAllowed ? 'block' : 'none';\n",
              "\n",
              "      async function convertToInteractive(key) {\n",
              "        const element = document.querySelector('#df-7c43537e-c9ea-4c0d-9d76-48ee35ed1edd');\n",
              "        const dataTable =\n",
              "          await google.colab.kernel.invokeFunction('convertToInteractive',\n",
              "                                                    [key], {});\n",
              "        if (!dataTable) return;\n",
              "\n",
              "        const docLinkHtml = 'Like what you see? Visit the ' +\n",
              "          '<a target=\"_blank\" href=https://colab.research.google.com/notebooks/data_table.ipynb>data table notebook</a>'\n",
              "          + ' to learn more about interactive tables.';\n",
              "        element.innerHTML = '';\n",
              "        dataTable['output_type'] = 'display_data';\n",
              "        await google.colab.output.renderOutput(dataTable, element);\n",
              "        const docLink = document.createElement('div');\n",
              "        docLink.innerHTML = docLinkHtml;\n",
              "        element.appendChild(docLink);\n",
              "      }\n",
              "    </script>\n",
              "  </div>\n",
              "\n",
              "\n",
              "<div id=\"df-3073db2c-017c-4e6e-93b5-7eece7b9ea1c\">\n",
              "  <button class=\"colab-df-quickchart\" onclick=\"quickchart('df-3073db2c-017c-4e6e-93b5-7eece7b9ea1c')\"\n",
              "            title=\"Suggest charts\"\n",
              "            style=\"display:none;\">\n",
              "\n",
              "<svg xmlns=\"http://www.w3.org/2000/svg\" height=\"24px\"viewBox=\"0 0 24 24\"\n",
              "     width=\"24px\">\n",
              "    <g>\n",
              "        <path d=\"M19 3H5c-1.1 0-2 .9-2 2v14c0 1.1.9 2 2 2h14c1.1 0 2-.9 2-2V5c0-1.1-.9-2-2-2zM9 17H7v-7h2v7zm4 0h-2V7h2v10zm4 0h-2v-4h2v4z\"/>\n",
              "    </g>\n",
              "</svg>\n",
              "  </button>\n",
              "\n",
              "<style>\n",
              "  .colab-df-quickchart {\n",
              "      --bg-color: #E8F0FE;\n",
              "      --fill-color: #1967D2;\n",
              "      --hover-bg-color: #E2EBFA;\n",
              "      --hover-fill-color: #174EA6;\n",
              "      --disabled-fill-color: #AAA;\n",
              "      --disabled-bg-color: #DDD;\n",
              "  }\n",
              "\n",
              "  [theme=dark] .colab-df-quickchart {\n",
              "      --bg-color: #3B4455;\n",
              "      --fill-color: #D2E3FC;\n",
              "      --hover-bg-color: #434B5C;\n",
              "      --hover-fill-color: #FFFFFF;\n",
              "      --disabled-bg-color: #3B4455;\n",
              "      --disabled-fill-color: #666;\n",
              "  }\n",
              "\n",
              "  .colab-df-quickchart {\n",
              "    background-color: var(--bg-color);\n",
              "    border: none;\n",
              "    border-radius: 50%;\n",
              "    cursor: pointer;\n",
              "    display: none;\n",
              "    fill: var(--fill-color);\n",
              "    height: 32px;\n",
              "    padding: 0;\n",
              "    width: 32px;\n",
              "  }\n",
              "\n",
              "  .colab-df-quickchart:hover {\n",
              "    background-color: var(--hover-bg-color);\n",
              "    box-shadow: 0 1px 2px rgba(60, 64, 67, 0.3), 0 1px 3px 1px rgba(60, 64, 67, 0.15);\n",
              "    fill: var(--button-hover-fill-color);\n",
              "  }\n",
              "\n",
              "  .colab-df-quickchart-complete:disabled,\n",
              "  .colab-df-quickchart-complete:disabled:hover {\n",
              "    background-color: var(--disabled-bg-color);\n",
              "    fill: var(--disabled-fill-color);\n",
              "    box-shadow: none;\n",
              "  }\n",
              "\n",
              "  .colab-df-spinner {\n",
              "    border: 2px solid var(--fill-color);\n",
              "    border-color: transparent;\n",
              "    border-bottom-color: var(--fill-color);\n",
              "    animation:\n",
              "      spin 1s steps(1) infinite;\n",
              "  }\n",
              "\n",
              "  @keyframes spin {\n",
              "    0% {\n",
              "      border-color: transparent;\n",
              "      border-bottom-color: var(--fill-color);\n",
              "      border-left-color: var(--fill-color);\n",
              "    }\n",
              "    20% {\n",
              "      border-color: transparent;\n",
              "      border-left-color: var(--fill-color);\n",
              "      border-top-color: var(--fill-color);\n",
              "    }\n",
              "    30% {\n",
              "      border-color: transparent;\n",
              "      border-left-color: var(--fill-color);\n",
              "      border-top-color: var(--fill-color);\n",
              "      border-right-color: var(--fill-color);\n",
              "    }\n",
              "    40% {\n",
              "      border-color: transparent;\n",
              "      border-right-color: var(--fill-color);\n",
              "      border-top-color: var(--fill-color);\n",
              "    }\n",
              "    60% {\n",
              "      border-color: transparent;\n",
              "      border-right-color: var(--fill-color);\n",
              "    }\n",
              "    80% {\n",
              "      border-color: transparent;\n",
              "      border-right-color: var(--fill-color);\n",
              "      border-bottom-color: var(--fill-color);\n",
              "    }\n",
              "    90% {\n",
              "      border-color: transparent;\n",
              "      border-bottom-color: var(--fill-color);\n",
              "    }\n",
              "  }\n",
              "</style>\n",
              "\n",
              "  <script>\n",
              "    async function quickchart(key) {\n",
              "      const quickchartButtonEl =\n",
              "        document.querySelector('#' + key + ' button');\n",
              "      quickchartButtonEl.disabled = true;  // To prevent multiple clicks.\n",
              "      quickchartButtonEl.classList.add('colab-df-spinner');\n",
              "      try {\n",
              "        const charts = await google.colab.kernel.invokeFunction(\n",
              "            'suggestCharts', [key], {});\n",
              "      } catch (error) {\n",
              "        console.error('Error during call to suggestCharts:', error);\n",
              "      }\n",
              "      quickchartButtonEl.classList.remove('colab-df-spinner');\n",
              "      quickchartButtonEl.classList.add('colab-df-quickchart-complete');\n",
              "    }\n",
              "    (() => {\n",
              "      let quickchartButtonEl =\n",
              "        document.querySelector('#df-3073db2c-017c-4e6e-93b5-7eece7b9ea1c button');\n",
              "      quickchartButtonEl.style.display =\n",
              "        google.colab.kernel.accessAllowed ? 'block' : 'none';\n",
              "    })();\n",
              "  </script>\n",
              "</div>\n",
              "\n",
              "    </div>\n",
              "  </div>\n"
            ],
            "application/vnd.google.colaboratory.intrinsic+json": {
              "type": "dataframe",
              "summary": "{\n  \"name\": \"df\",\n  \"rows\": 8,\n  \"fields\": [\n    {\n      \"column\": \"Price\",\n      \"properties\": {\n        \"dtype\": \"number\",\n        \"std\": 142146.0574204644,\n        \"min\": 823.0,\n        \"max\": 441990.0,\n        \"num_unique_values\": 8,\n        \"samples\": [\n          76745.17739975698,\n          64990.0,\n          823.0\n        ],\n        \"semantic_type\": \"\",\n        \"description\": \"\"\n      }\n    },\n    {\n      \"column\": \"Number of Ratings\",\n      \"properties\": {\n        \"dtype\": \"number\",\n        \"std\": 5298.626222925763,\n        \"min\": 0.0,\n        \"max\": 15279.0,\n        \"num_unique_values\": 7,\n        \"samples\": [\n          823.0,\n          315.30133657351155,\n          139.5\n        ],\n        \"semantic_type\": \"\",\n        \"description\": \"\"\n      }\n    },\n    {\n      \"column\": \"Number of Reviews\",\n      \"properties\": {\n        \"dtype\": \"number\",\n        \"std\": 696.662851831292,\n        \"min\": 0.0,\n        \"max\": 1947.0,\n        \"num_unique_values\": 7,\n        \"samples\": [\n          823.0,\n          37.60996354799514,\n          18.0\n        ],\n        \"semantic_type\": \"\",\n        \"description\": \"\"\n      }\n    }\n  ]\n}"
            }
          },
          "metadata": {},
          "execution_count": 5
        }
      ]
    },
    {
      "cell_type": "markdown",
      "source": [
        "Using `df.head()`, we can browse the first five rows of the dataset."
      ],
      "metadata": {
        "id": "Mecy6Wf6K0WB"
      }
    },
    {
      "cell_type": "code",
      "source": [
        "df.head()"
      ],
      "metadata": {
        "colab": {
          "base_uri": "https://localhost:8080/",
          "height": 347
        },
        "id": "SK9wMhtQH6Yt",
        "outputId": "f803836a-702f-4c2a-e6ca-fa51cc583a05"
      },
      "execution_count": 6,
      "outputs": [
        {
          "output_type": "execute_result",
          "data": {
            "text/plain": [
              "    brand processor_brand processor_name processor_gnrtn ram_gb ram_type  \\\n",
              "0    ASUS           Intel        Core i3            10th   4 GB     DDR4   \n",
              "1  Lenovo           Intel        Core i3            10th   4 GB     DDR4   \n",
              "2  Lenovo           Intel        Core i3            10th   4 GB     DDR4   \n",
              "3    ASUS           Intel        Core i5            10th   8 GB     DDR4   \n",
              "4    ASUS           Intel   Celeron Dual   Not Available   4 GB     DDR4   \n",
              "\n",
              "      ssd      hdd       os  os_bit graphic_card_gb  weight     warranty  \\\n",
              "0    0 GB  1024 GB  Windows  64-bit            0 GB  Casual  No warranty   \n",
              "1    0 GB  1024 GB  Windows  64-bit            0 GB  Casual  No warranty   \n",
              "2    0 GB  1024 GB  Windows  64-bit            0 GB  Casual  No warranty   \n",
              "3  512 GB     0 GB  Windows  32-bit            2 GB  Casual  No warranty   \n",
              "4    0 GB   512 GB  Windows  64-bit            0 GB  Casual  No warranty   \n",
              "\n",
              "  Touchscreen msoffice  Price   rating  Number of Ratings  Number of Reviews  \n",
              "0          No       No  34649  2 stars                  3                  0  \n",
              "1          No       No  38999  3 stars                 65                  5  \n",
              "2          No       No  39999  3 stars                  8                  1  \n",
              "3          No       No  69990  3 stars                  0                  0  \n",
              "4          No       No  26990  3 stars                  0                  0  "
            ],
            "text/html": [
              "\n",
              "  <div id=\"df-40c4f318-e119-4e07-8508-7c60e234c029\" class=\"colab-df-container\">\n",
              "    <div>\n",
              "<style scoped>\n",
              "    .dataframe tbody tr th:only-of-type {\n",
              "        vertical-align: middle;\n",
              "    }\n",
              "\n",
              "    .dataframe tbody tr th {\n",
              "        vertical-align: top;\n",
              "    }\n",
              "\n",
              "    .dataframe thead th {\n",
              "        text-align: right;\n",
              "    }\n",
              "</style>\n",
              "<table border=\"1\" class=\"dataframe\">\n",
              "  <thead>\n",
              "    <tr style=\"text-align: right;\">\n",
              "      <th></th>\n",
              "      <th>brand</th>\n",
              "      <th>processor_brand</th>\n",
              "      <th>processor_name</th>\n",
              "      <th>processor_gnrtn</th>\n",
              "      <th>ram_gb</th>\n",
              "      <th>ram_type</th>\n",
              "      <th>ssd</th>\n",
              "      <th>hdd</th>\n",
              "      <th>os</th>\n",
              "      <th>os_bit</th>\n",
              "      <th>graphic_card_gb</th>\n",
              "      <th>weight</th>\n",
              "      <th>warranty</th>\n",
              "      <th>Touchscreen</th>\n",
              "      <th>msoffice</th>\n",
              "      <th>Price</th>\n",
              "      <th>rating</th>\n",
              "      <th>Number of Ratings</th>\n",
              "      <th>Number of Reviews</th>\n",
              "    </tr>\n",
              "  </thead>\n",
              "  <tbody>\n",
              "    <tr>\n",
              "      <th>0</th>\n",
              "      <td>ASUS</td>\n",
              "      <td>Intel</td>\n",
              "      <td>Core i3</td>\n",
              "      <td>10th</td>\n",
              "      <td>4 GB</td>\n",
              "      <td>DDR4</td>\n",
              "      <td>0 GB</td>\n",
              "      <td>1024 GB</td>\n",
              "      <td>Windows</td>\n",
              "      <td>64-bit</td>\n",
              "      <td>0 GB</td>\n",
              "      <td>Casual</td>\n",
              "      <td>No warranty</td>\n",
              "      <td>No</td>\n",
              "      <td>No</td>\n",
              "      <td>34649</td>\n",
              "      <td>2 stars</td>\n",
              "      <td>3</td>\n",
              "      <td>0</td>\n",
              "    </tr>\n",
              "    <tr>\n",
              "      <th>1</th>\n",
              "      <td>Lenovo</td>\n",
              "      <td>Intel</td>\n",
              "      <td>Core i3</td>\n",
              "      <td>10th</td>\n",
              "      <td>4 GB</td>\n",
              "      <td>DDR4</td>\n",
              "      <td>0 GB</td>\n",
              "      <td>1024 GB</td>\n",
              "      <td>Windows</td>\n",
              "      <td>64-bit</td>\n",
              "      <td>0 GB</td>\n",
              "      <td>Casual</td>\n",
              "      <td>No warranty</td>\n",
              "      <td>No</td>\n",
              "      <td>No</td>\n",
              "      <td>38999</td>\n",
              "      <td>3 stars</td>\n",
              "      <td>65</td>\n",
              "      <td>5</td>\n",
              "    </tr>\n",
              "    <tr>\n",
              "      <th>2</th>\n",
              "      <td>Lenovo</td>\n",
              "      <td>Intel</td>\n",
              "      <td>Core i3</td>\n",
              "      <td>10th</td>\n",
              "      <td>4 GB</td>\n",
              "      <td>DDR4</td>\n",
              "      <td>0 GB</td>\n",
              "      <td>1024 GB</td>\n",
              "      <td>Windows</td>\n",
              "      <td>64-bit</td>\n",
              "      <td>0 GB</td>\n",
              "      <td>Casual</td>\n",
              "      <td>No warranty</td>\n",
              "      <td>No</td>\n",
              "      <td>No</td>\n",
              "      <td>39999</td>\n",
              "      <td>3 stars</td>\n",
              "      <td>8</td>\n",
              "      <td>1</td>\n",
              "    </tr>\n",
              "    <tr>\n",
              "      <th>3</th>\n",
              "      <td>ASUS</td>\n",
              "      <td>Intel</td>\n",
              "      <td>Core i5</td>\n",
              "      <td>10th</td>\n",
              "      <td>8 GB</td>\n",
              "      <td>DDR4</td>\n",
              "      <td>512 GB</td>\n",
              "      <td>0 GB</td>\n",
              "      <td>Windows</td>\n",
              "      <td>32-bit</td>\n",
              "      <td>2 GB</td>\n",
              "      <td>Casual</td>\n",
              "      <td>No warranty</td>\n",
              "      <td>No</td>\n",
              "      <td>No</td>\n",
              "      <td>69990</td>\n",
              "      <td>3 stars</td>\n",
              "      <td>0</td>\n",
              "      <td>0</td>\n",
              "    </tr>\n",
              "    <tr>\n",
              "      <th>4</th>\n",
              "      <td>ASUS</td>\n",
              "      <td>Intel</td>\n",
              "      <td>Celeron Dual</td>\n",
              "      <td>Not Available</td>\n",
              "      <td>4 GB</td>\n",
              "      <td>DDR4</td>\n",
              "      <td>0 GB</td>\n",
              "      <td>512 GB</td>\n",
              "      <td>Windows</td>\n",
              "      <td>64-bit</td>\n",
              "      <td>0 GB</td>\n",
              "      <td>Casual</td>\n",
              "      <td>No warranty</td>\n",
              "      <td>No</td>\n",
              "      <td>No</td>\n",
              "      <td>26990</td>\n",
              "      <td>3 stars</td>\n",
              "      <td>0</td>\n",
              "      <td>0</td>\n",
              "    </tr>\n",
              "  </tbody>\n",
              "</table>\n",
              "</div>\n",
              "    <div class=\"colab-df-buttons\">\n",
              "\n",
              "  <div class=\"colab-df-container\">\n",
              "    <button class=\"colab-df-convert\" onclick=\"convertToInteractive('df-40c4f318-e119-4e07-8508-7c60e234c029')\"\n",
              "            title=\"Convert this dataframe to an interactive table.\"\n",
              "            style=\"display:none;\">\n",
              "\n",
              "  <svg xmlns=\"http://www.w3.org/2000/svg\" height=\"24px\" viewBox=\"0 -960 960 960\">\n",
              "    <path d=\"M120-120v-720h720v720H120Zm60-500h600v-160H180v160Zm220 220h160v-160H400v160Zm0 220h160v-160H400v160ZM180-400h160v-160H180v160Zm440 0h160v-160H620v160ZM180-180h160v-160H180v160Zm440 0h160v-160H620v160Z\"/>\n",
              "  </svg>\n",
              "    </button>\n",
              "\n",
              "  <style>\n",
              "    .colab-df-container {\n",
              "      display:flex;\n",
              "      gap: 12px;\n",
              "    }\n",
              "\n",
              "    .colab-df-convert {\n",
              "      background-color: #E8F0FE;\n",
              "      border: none;\n",
              "      border-radius: 50%;\n",
              "      cursor: pointer;\n",
              "      display: none;\n",
              "      fill: #1967D2;\n",
              "      height: 32px;\n",
              "      padding: 0 0 0 0;\n",
              "      width: 32px;\n",
              "    }\n",
              "\n",
              "    .colab-df-convert:hover {\n",
              "      background-color: #E2EBFA;\n",
              "      box-shadow: 0px 1px 2px rgba(60, 64, 67, 0.3), 0px 1px 3px 1px rgba(60, 64, 67, 0.15);\n",
              "      fill: #174EA6;\n",
              "    }\n",
              "\n",
              "    .colab-df-buttons div {\n",
              "      margin-bottom: 4px;\n",
              "    }\n",
              "\n",
              "    [theme=dark] .colab-df-convert {\n",
              "      background-color: #3B4455;\n",
              "      fill: #D2E3FC;\n",
              "    }\n",
              "\n",
              "    [theme=dark] .colab-df-convert:hover {\n",
              "      background-color: #434B5C;\n",
              "      box-shadow: 0px 1px 3px 1px rgba(0, 0, 0, 0.15);\n",
              "      filter: drop-shadow(0px 1px 2px rgba(0, 0, 0, 0.3));\n",
              "      fill: #FFFFFF;\n",
              "    }\n",
              "  </style>\n",
              "\n",
              "    <script>\n",
              "      const buttonEl =\n",
              "        document.querySelector('#df-40c4f318-e119-4e07-8508-7c60e234c029 button.colab-df-convert');\n",
              "      buttonEl.style.display =\n",
              "        google.colab.kernel.accessAllowed ? 'block' : 'none';\n",
              "\n",
              "      async function convertToInteractive(key) {\n",
              "        const element = document.querySelector('#df-40c4f318-e119-4e07-8508-7c60e234c029');\n",
              "        const dataTable =\n",
              "          await google.colab.kernel.invokeFunction('convertToInteractive',\n",
              "                                                    [key], {});\n",
              "        if (!dataTable) return;\n",
              "\n",
              "        const docLinkHtml = 'Like what you see? Visit the ' +\n",
              "          '<a target=\"_blank\" href=https://colab.research.google.com/notebooks/data_table.ipynb>data table notebook</a>'\n",
              "          + ' to learn more about interactive tables.';\n",
              "        element.innerHTML = '';\n",
              "        dataTable['output_type'] = 'display_data';\n",
              "        await google.colab.output.renderOutput(dataTable, element);\n",
              "        const docLink = document.createElement('div');\n",
              "        docLink.innerHTML = docLinkHtml;\n",
              "        element.appendChild(docLink);\n",
              "      }\n",
              "    </script>\n",
              "  </div>\n",
              "\n",
              "\n",
              "<div id=\"df-851d1524-1187-4748-8ae5-6ab6eb45aa39\">\n",
              "  <button class=\"colab-df-quickchart\" onclick=\"quickchart('df-851d1524-1187-4748-8ae5-6ab6eb45aa39')\"\n",
              "            title=\"Suggest charts\"\n",
              "            style=\"display:none;\">\n",
              "\n",
              "<svg xmlns=\"http://www.w3.org/2000/svg\" height=\"24px\"viewBox=\"0 0 24 24\"\n",
              "     width=\"24px\">\n",
              "    <g>\n",
              "        <path d=\"M19 3H5c-1.1 0-2 .9-2 2v14c0 1.1.9 2 2 2h14c1.1 0 2-.9 2-2V5c0-1.1-.9-2-2-2zM9 17H7v-7h2v7zm4 0h-2V7h2v10zm4 0h-2v-4h2v4z\"/>\n",
              "    </g>\n",
              "</svg>\n",
              "  </button>\n",
              "\n",
              "<style>\n",
              "  .colab-df-quickchart {\n",
              "      --bg-color: #E8F0FE;\n",
              "      --fill-color: #1967D2;\n",
              "      --hover-bg-color: #E2EBFA;\n",
              "      --hover-fill-color: #174EA6;\n",
              "      --disabled-fill-color: #AAA;\n",
              "      --disabled-bg-color: #DDD;\n",
              "  }\n",
              "\n",
              "  [theme=dark] .colab-df-quickchart {\n",
              "      --bg-color: #3B4455;\n",
              "      --fill-color: #D2E3FC;\n",
              "      --hover-bg-color: #434B5C;\n",
              "      --hover-fill-color: #FFFFFF;\n",
              "      --disabled-bg-color: #3B4455;\n",
              "      --disabled-fill-color: #666;\n",
              "  }\n",
              "\n",
              "  .colab-df-quickchart {\n",
              "    background-color: var(--bg-color);\n",
              "    border: none;\n",
              "    border-radius: 50%;\n",
              "    cursor: pointer;\n",
              "    display: none;\n",
              "    fill: var(--fill-color);\n",
              "    height: 32px;\n",
              "    padding: 0;\n",
              "    width: 32px;\n",
              "  }\n",
              "\n",
              "  .colab-df-quickchart:hover {\n",
              "    background-color: var(--hover-bg-color);\n",
              "    box-shadow: 0 1px 2px rgba(60, 64, 67, 0.3), 0 1px 3px 1px rgba(60, 64, 67, 0.15);\n",
              "    fill: var(--button-hover-fill-color);\n",
              "  }\n",
              "\n",
              "  .colab-df-quickchart-complete:disabled,\n",
              "  .colab-df-quickchart-complete:disabled:hover {\n",
              "    background-color: var(--disabled-bg-color);\n",
              "    fill: var(--disabled-fill-color);\n",
              "    box-shadow: none;\n",
              "  }\n",
              "\n",
              "  .colab-df-spinner {\n",
              "    border: 2px solid var(--fill-color);\n",
              "    border-color: transparent;\n",
              "    border-bottom-color: var(--fill-color);\n",
              "    animation:\n",
              "      spin 1s steps(1) infinite;\n",
              "  }\n",
              "\n",
              "  @keyframes spin {\n",
              "    0% {\n",
              "      border-color: transparent;\n",
              "      border-bottom-color: var(--fill-color);\n",
              "      border-left-color: var(--fill-color);\n",
              "    }\n",
              "    20% {\n",
              "      border-color: transparent;\n",
              "      border-left-color: var(--fill-color);\n",
              "      border-top-color: var(--fill-color);\n",
              "    }\n",
              "    30% {\n",
              "      border-color: transparent;\n",
              "      border-left-color: var(--fill-color);\n",
              "      border-top-color: var(--fill-color);\n",
              "      border-right-color: var(--fill-color);\n",
              "    }\n",
              "    40% {\n",
              "      border-color: transparent;\n",
              "      border-right-color: var(--fill-color);\n",
              "      border-top-color: var(--fill-color);\n",
              "    }\n",
              "    60% {\n",
              "      border-color: transparent;\n",
              "      border-right-color: var(--fill-color);\n",
              "    }\n",
              "    80% {\n",
              "      border-color: transparent;\n",
              "      border-right-color: var(--fill-color);\n",
              "      border-bottom-color: var(--fill-color);\n",
              "    }\n",
              "    90% {\n",
              "      border-color: transparent;\n",
              "      border-bottom-color: var(--fill-color);\n",
              "    }\n",
              "  }\n",
              "</style>\n",
              "\n",
              "  <script>\n",
              "    async function quickchart(key) {\n",
              "      const quickchartButtonEl =\n",
              "        document.querySelector('#' + key + ' button');\n",
              "      quickchartButtonEl.disabled = true;  // To prevent multiple clicks.\n",
              "      quickchartButtonEl.classList.add('colab-df-spinner');\n",
              "      try {\n",
              "        const charts = await google.colab.kernel.invokeFunction(\n",
              "            'suggestCharts', [key], {});\n",
              "      } catch (error) {\n",
              "        console.error('Error during call to suggestCharts:', error);\n",
              "      }\n",
              "      quickchartButtonEl.classList.remove('colab-df-spinner');\n",
              "      quickchartButtonEl.classList.add('colab-df-quickchart-complete');\n",
              "    }\n",
              "    (() => {\n",
              "      let quickchartButtonEl =\n",
              "        document.querySelector('#df-851d1524-1187-4748-8ae5-6ab6eb45aa39 button');\n",
              "      quickchartButtonEl.style.display =\n",
              "        google.colab.kernel.accessAllowed ? 'block' : 'none';\n",
              "    })();\n",
              "  </script>\n",
              "</div>\n",
              "\n",
              "    </div>\n",
              "  </div>\n"
            ],
            "application/vnd.google.colaboratory.intrinsic+json": {
              "type": "dataframe",
              "variable_name": "df",
              "summary": "{\n  \"name\": \"df\",\n  \"rows\": 823,\n  \"fields\": [\n    {\n      \"column\": \"brand\",\n      \"properties\": {\n        \"dtype\": \"category\",\n        \"num_unique_values\": 8,\n        \"samples\": [\n          \"Lenovo\",\n          \"DELL\",\n          \"ASUS\"\n        ],\n        \"semantic_type\": \"\",\n        \"description\": \"\"\n      }\n    },\n    {\n      \"column\": \"processor_brand\",\n      \"properties\": {\n        \"dtype\": \"category\",\n        \"num_unique_values\": 3,\n        \"samples\": [\n          \"Intel\",\n          \"AMD\",\n          \"M1\"\n        ],\n        \"semantic_type\": \"\",\n        \"description\": \"\"\n      }\n    },\n    {\n      \"column\": \"processor_name\",\n      \"properties\": {\n        \"dtype\": \"category\",\n        \"num_unique_values\": 11,\n        \"samples\": [\n          \"Core i9\",\n          \"Core i3\",\n          \"Ryzen 7\"\n        ],\n        \"semantic_type\": \"\",\n        \"description\": \"\"\n      }\n    },\n    {\n      \"column\": \"processor_gnrtn\",\n      \"properties\": {\n        \"dtype\": \"category\",\n        \"num_unique_values\": 8,\n        \"samples\": [\n          \"Not Available\",\n          \"9th\",\n          \"10th\"\n        ],\n        \"semantic_type\": \"\",\n        \"description\": \"\"\n      }\n    },\n    {\n      \"column\": \"ram_gb\",\n      \"properties\": {\n        \"dtype\": \"category\",\n        \"num_unique_values\": 4,\n        \"samples\": [\n          \"8 GB\",\n          \"32 GB\",\n          \"4 GB\"\n        ],\n        \"semantic_type\": \"\",\n        \"description\": \"\"\n      }\n    },\n    {\n      \"column\": \"ram_type\",\n      \"properties\": {\n        \"dtype\": \"category\",\n        \"num_unique_values\": 6,\n        \"samples\": [\n          \"DDR4\",\n          \"LPDDR4\",\n          \"LPDDR3\"\n        ],\n        \"semantic_type\": \"\",\n        \"description\": \"\"\n      }\n    },\n    {\n      \"column\": \"ssd\",\n      \"properties\": {\n        \"dtype\": \"category\",\n        \"num_unique_values\": 7,\n        \"samples\": [\n          \"0 GB\",\n          \"512 GB\",\n          \"2048 GB\"\n        ],\n        \"semantic_type\": \"\",\n        \"description\": \"\"\n      }\n    },\n    {\n      \"column\": \"hdd\",\n      \"properties\": {\n        \"dtype\": \"category\",\n        \"num_unique_values\": 4,\n        \"samples\": [\n          \"0 GB\",\n          \"2048 GB\",\n          \"1024 GB\"\n        ],\n        \"semantic_type\": \"\",\n        \"description\": \"\"\n      }\n    },\n    {\n      \"column\": \"os\",\n      \"properties\": {\n        \"dtype\": \"category\",\n        \"num_unique_values\": 3,\n        \"samples\": [\n          \"Windows\",\n          \"DOS\",\n          \"Mac\"\n        ],\n        \"semantic_type\": \"\",\n        \"description\": \"\"\n      }\n    },\n    {\n      \"column\": \"os_bit\",\n      \"properties\": {\n        \"dtype\": \"category\",\n        \"num_unique_values\": 2,\n        \"samples\": [\n          \"32-bit\",\n          \"64-bit\"\n        ],\n        \"semantic_type\": \"\",\n        \"description\": \"\"\n      }\n    },\n    {\n      \"column\": \"graphic_card_gb\",\n      \"properties\": {\n        \"dtype\": \"category\",\n        \"num_unique_values\": 5,\n        \"samples\": [\n          \"2 GB\",\n          \"8 GB\"\n        ],\n        \"semantic_type\": \"\",\n        \"description\": \"\"\n      }\n    },\n    {\n      \"column\": \"weight\",\n      \"properties\": {\n        \"dtype\": \"category\",\n        \"num_unique_values\": 3,\n        \"samples\": [\n          \"Casual\",\n          \"ThinNlight\"\n        ],\n        \"semantic_type\": \"\",\n        \"description\": \"\"\n      }\n    },\n    {\n      \"column\": \"warranty\",\n      \"properties\": {\n        \"dtype\": \"category\",\n        \"num_unique_values\": 4,\n        \"samples\": [\n          \"1 year\",\n          \"3 years\"\n        ],\n        \"semantic_type\": \"\",\n        \"description\": \"\"\n      }\n    },\n    {\n      \"column\": \"Touchscreen\",\n      \"properties\": {\n        \"dtype\": \"category\",\n        \"num_unique_values\": 2,\n        \"samples\": [\n          \"Yes\",\n          \"No\"\n        ],\n        \"semantic_type\": \"\",\n        \"description\": \"\"\n      }\n    },\n    {\n      \"column\": \"msoffice\",\n      \"properties\": {\n        \"dtype\": \"category\",\n        \"num_unique_values\": 2,\n        \"samples\": [\n          \"Yes\",\n          \"No\"\n        ],\n        \"semantic_type\": \"\",\n        \"description\": \"\"\n      }\n    },\n    {\n      \"column\": \"Price\",\n      \"properties\": {\n        \"dtype\": \"number\",\n        \"std\": 45101,\n        \"min\": 16990,\n        \"max\": 441990,\n        \"num_unique_values\": 405,\n        \"samples\": [\n          44890,\n          86999\n        ],\n        \"semantic_type\": \"\",\n        \"description\": \"\"\n      }\n    },\n    {\n      \"column\": \"rating\",\n      \"properties\": {\n        \"dtype\": \"category\",\n        \"num_unique_values\": 5,\n        \"samples\": [\n          \"3 stars\",\n          \"1 star\"\n        ],\n        \"semantic_type\": \"\",\n        \"description\": \"\"\n      }\n    },\n    {\n      \"column\": \"Number of Ratings\",\n      \"properties\": {\n        \"dtype\": \"number\",\n        \"std\": 1047,\n        \"min\": 0,\n        \"max\": 15279,\n        \"num_unique_values\": 282,\n        \"samples\": [\n          15,\n          527\n        ],\n        \"semantic_type\": \"\",\n        \"description\": \"\"\n      }\n    },\n    {\n      \"column\": \"Number of Reviews\",\n      \"properties\": {\n        \"dtype\": \"number\",\n        \"std\": 121,\n        \"min\": 0,\n        \"max\": 1947,\n        \"num_unique_values\": 135,\n        \"samples\": [\n          48,\n          35\n        ],\n        \"semantic_type\": \"\",\n        \"description\": \"\"\n      }\n    }\n  ]\n}"
            }
          },
          "metadata": {},
          "execution_count": 6
        }
      ]
    },
    {
      "cell_type": "markdown",
      "source": [
        "### 1.4 Data Visualization"
      ],
      "metadata": {
        "id": "H5jccmcjd2Qa"
      }
    },
    {
      "cell_type": "code",
      "source": [
        "sns.countplot(x=df['brand'])\n",
        "plt.show()"
      ],
      "metadata": {
        "colab": {
          "base_uri": "https://localhost:8080/",
          "height": 449
        },
        "id": "K2xY4_XNdPGq",
        "outputId": "9d42e671-c4b8-4e06-9235-43408a0740b0"
      },
      "execution_count": 7,
      "outputs": [
        {
          "output_type": "display_data",
          "data": {
            "text/plain": [
              "<Figure size 640x480 with 1 Axes>"
            ],
            "image/png": "[encoded data removed]"
          },
          "metadata": {}
        }
      ]
    },
    {
      "cell_type": "code",
      "source": [
        "# plot prices\n",
        "sns.histplot(x=df['Price'])\n",
        "plt.show()"
      ],
      "metadata": {
        "colab": {
          "base_uri": "https://localhost:8080/",
          "height": 449
        },
        "id": "jG3RoJcdkpav",
        "outputId": "5e24d060-c3c9-4bce-acee-6ca3dbc8fdf0"
      },
      "execution_count": 8,
      "outputs": [
        {
          "output_type": "display_data",
          "data": {
            "text/plain": [
              "<Figure size 640x480 with 1 Axes>"
            ],
            "image/png": "[encoded data removed]"
          },
          "metadata": {}
        }
      ]
    },
    {
      "cell_type": "code",
      "source": [
        "# check for outliers\n",
        "sns.boxplot(df['Price'])\n",
        "plt.show()"
      ],
      "metadata": {
        "colab": {
          "base_uri": "https://localhost:8080/",
          "height": 411
        },
        "id": "NLHmtNB5lCk_",
        "outputId": "c174341b-2e11-490e-d2c9-e2c702684244"
      },
      "execution_count": 9,
      "outputs": [
        {
          "output_type": "display_data",
          "data": {
            "text/plain": [
              "<Figure size 640x480 with 1 Axes>"
            ],
            "image/png": "[encoded data removed]"
          },
          "metadata": {}
        }
      ]
    },
    {
      "cell_type": "markdown",
      "source": [
        "# 2. Data Preprocessing"
      ],
      "metadata": {
        "id": "rqGbRUa5aN2S"
      }
    },
    {
      "cell_type": "markdown",
      "source": [
        "### 2.1 Remove Outliers"
      ],
      "metadata": {
        "id": "H4hdL_Wnmo5u"
      }
    },
    {
      "cell_type": "code",
      "source": [
        "q1_price = df['Price'].quantile(0.25)\n",
        "q3_price = df['Price'].quantile(0.75)\n",
        "iqr_price = q3_price - q1_price\n",
        "\n",
        "lower_bound_price = q1_price - 1.5*iqr_price\n",
        "upper_bound_price = q3_price + 1.5*iqr_price\n",
        "\n",
        "df = df[(df['Price'] >= lower_bound_price) & (df['Price'] <= upper_bound_price)]"
      ],
      "metadata": {
        "id": "iwm7pWTqpTTO"
      },
      "execution_count": 10,
      "outputs": []
    },
    {
      "cell_type": "code",
      "source": [
        "sns.boxplot(df['Price'])\n",
        "plt.show()"
      ],
      "metadata": {
        "colab": {
          "base_uri": "https://localhost:8080/",
          "height": 411
        },
        "id": "RQnwb7k8pdcL",
        "outputId": "4f5ebe8f-3cef-4f2f-abf0-2531abfecea4"
      },
      "execution_count": 11,
      "outputs": [
        {
          "output_type": "display_data",
          "data": {
            "text/plain": [
              "<Figure size 640x480 with 1 Axes>"
            ],
            "image/png": "[encoded data removed]"
          },
          "metadata": {}
        }
      ]
    },
    {
      "cell_type": "code",
      "source": [
        "df.info()"
      ],
      "metadata": {
        "colab": {
          "base_uri": "https://localhost:8080/"
        },
        "id": "Q6ab5Sc7ppjQ",
        "outputId": "0217b1c4-852c-458d-dfc0-05b02f33c248"
      },
      "execution_count": 12,
      "outputs": [
        {
          "output_type": "stream",
          "name": "stdout",
          "text": [
            "<class 'pandas.core.frame.DataFrame'>\n",
            "Index: 773 entries, 0 to 822\n",
            "Data columns (total 19 columns):\n",
            " #   Column             Non-Null Count  Dtype \n",
            "---  ------             --------------  ----- \n",
            " 0   brand              773 non-null    object\n",
            " 1   processor_brand    773 non-null    object\n",
            " 2   processor_name     773 non-null    object\n",
            " 3   processor_gnrtn    773 non-null    object\n",
            " 4   ram_gb             773 non-null    object\n",
            " 5   ram_type           773 non-null    object\n",
            " 6   ssd                773 non-null    object\n",
            " 7   hdd                773 non-null    object\n",
            " 8   os                 773 non-null    object\n",
            " 9   os_bit             773 non-null    object\n",
            " 10  graphic_card_gb    773 non-null    object\n",
            " 11  weight             773 non-null    object\n",
            " 12  warranty           773 non-null    object\n",
            " 13  Touchscreen        773 non-null    object\n",
            " 14  msoffice           773 non-null    object\n",
            " 15  Price              773 non-null    int64 \n",
            " 16  rating             773 non-null    object\n",
            " 17  Number of Ratings  773 non-null    int64 \n",
            " 18  Number of Reviews  773 non-null    int64 \n",
            "dtypes: int64(3), object(16)\n",
            "memory usage: 120.8+ KB\n"
          ]
        }
      ]
    },
    {
      "cell_type": "markdown",
      "source": [
        "### 2.2 Encoding Categorical Features"
      ],
      "metadata": {
        "id": "6JOeIxU_34y3"
      }
    },
    {
      "cell_type": "markdown",
      "source": [
        "We can get further information about each column possible values using `value_counts()`.\\\n",
        "\\\n",
        "This is useful for encoding categorical columns to know either the column should be encoded **manually** or using **one-hot encoding**, or maybe we **don't need** that column !"
      ],
      "metadata": {
        "id": "YyqhZK42LVIo"
      }
    },
    {
      "cell_type": "code",
      "source": [
        "for col in df.columns:\n",
        "    print(df[col].value_counts())\n",
        "    print('-'*30)"
      ],
      "metadata": {
        "colab": {
          "base_uri": "https://localhost:8080/"
        },
        "id": "IyyqEFVBISKX",
        "outputId": "e306d616-2065-4e7a-c5c8-4baca08473b3"
      },
      "execution_count": 13,
      "outputs": [
        {
          "output_type": "stream",
          "name": "stdout",
          "text": [
            "brand\n",
            "ASUS      234\n",
            "DELL      151\n",
            "Lenovo    135\n",
            "HP        130\n",
            "acer       49\n",
            "MSI        43\n",
            "APPLE      17\n",
            "Avita      14\n",
            "Name: count, dtype: int64\n",
            "------------------------------\n",
            "processor_brand\n",
            "Intel    572\n",
            "AMD      184\n",
            "M1        17\n",
            "Name: count, dtype: int64\n",
            "------------------------------\n",
            "processor_name\n",
            "Core i5         282\n",
            "Core i3         164\n",
            "Core i7          86\n",
            "Ryzen 5          82\n",
            "Ryzen 7          55\n",
            "Ryzen 3          26\n",
            "Celeron Dual     24\n",
            "Ryzen 9          22\n",
            "M1               17\n",
            "Pentium Quad     13\n",
            "Core i9           2\n",
            "Name: count, dtype: int64\n",
            "------------------------------\n",
            "processor_gnrtn\n",
            "11th             326\n",
            "Not Available    220\n",
            "10th             172\n",
            "8th               39\n",
            "7th                9\n",
            "9th                5\n",
            "4th                1\n",
            "12th               1\n",
            "Name: count, dtype: int64\n",
            "------------------------------\n",
            "ram_gb\n",
            "8 GB     412\n",
            "4 GB     223\n",
            "16 GB    138\n",
            "Name: count, dtype: int64\n",
            "------------------------------\n",
            "ram_type\n",
            "DDR4       676\n",
            "LPDDR4X     53\n",
            "LPDDR4      24\n",
            "LPDDR3       8\n",
            "DDR5         6\n",
            "DDR3         6\n",
            "Name: count, dtype: int64\n",
            "------------------------------\n",
            "ssd\n",
            "512 GB     386\n",
            "256 GB     183\n",
            "0 GB       121\n",
            "1024 GB     80\n",
            "128 GB       3\n",
            "Name: count, dtype: int64\n",
            "------------------------------\n",
            "hdd\n",
            "0 GB       576\n",
            "1024 GB    159\n",
            "512 GB      37\n",
            "2048 GB      1\n",
            "Name: count, dtype: int64\n",
            "------------------------------\n",
            "os\n",
            "Windows    743\n",
            "Mac         17\n",
            "DOS         13\n",
            "Name: count, dtype: int64\n",
            "------------------------------\n",
            "os_bit\n",
            "64-bit    673\n",
            "32-bit    100\n",
            "Name: count, dtype: int64\n",
            "------------------------------\n",
            "graphic_card_gb\n",
            "0 GB    553\n",
            "4 GB    122\n",
            "2 GB     65\n",
            "6 GB     30\n",
            "8 GB      3\n",
            "Name: count, dtype: int64\n",
            "------------------------------\n",
            "weight\n",
            "Casual        476\n",
            "ThinNlight    258\n",
            "Gaming         39\n",
            "Name: count, dtype: int64\n",
            "------------------------------\n",
            "warranty\n",
            "1 year         480\n",
            "No warranty    261\n",
            "2 years         22\n",
            "3 years         10\n",
            "Name: count, dtype: int64\n",
            "------------------------------\n",
            "Touchscreen\n",
            "No     685\n",
            "Yes     88\n",
            "Name: count, dtype: int64\n",
            "------------------------------\n",
            "msoffice\n",
            "No     497\n",
            "Yes    276\n",
            "Name: count, dtype: int64\n",
            "------------------------------\n",
            "Price\n",
            "59990     15\n",
            "64990     15\n",
            "79990     13\n",
            "99990     13\n",
            "39990     12\n",
            "          ..\n",
            "111890     1\n",
            "71090      1\n",
            "53400      1\n",
            "74500      1\n",
            "57490      1\n",
            "Name: count, Length: 369, dtype: int64\n",
            "------------------------------\n",
            "rating\n",
            "4 stars    424\n",
            "3 stars    325\n",
            "5 stars     13\n",
            "2 stars      9\n",
            "1 star       2\n",
            "Name: count, dtype: int64\n",
            "------------------------------\n",
            "Number of Ratings\n",
            "0        231\n",
            "3         19\n",
            "17        17\n",
            "4         17\n",
            "10        12\n",
            "        ... \n",
            "10966      1\n",
            "1881       1\n",
            "4428       1\n",
            "129        1\n",
            "204        1\n",
            "Name: count, Length: 281, dtype: int64\n",
            "------------------------------\n",
            "Number of Reviews\n",
            "0      283\n",
            "1       63\n",
            "2       38\n",
            "4       37\n",
            "3       35\n",
            "      ... \n",
            "103      1\n",
            "181      1\n",
            "170      1\n",
            "113      1\n",
            "22       1\n",
            "Name: count, Length: 135, dtype: int64\n",
            "------------------------------\n"
          ]
        }
      ]
    },
    {
      "cell_type": "markdown",
      "source": [
        "Based on the previous cell, we divide the features into three groups."
      ],
      "metadata": {
        "id": "tsDvPpcOMFxs"
      }
    },
    {
      "cell_type": "code",
      "source": [
        "onehot = ['brand', 'processor_brand', 'processor_name', 'ram_type', 'os', 'weight']\n",
        "manual = ['processor_gnrtn', 'ram_gb', 'ssd', 'hdd', 'os_bit', 'graphic_card_gb', 'warranty', 'Touchscreen', 'msoffice', 'rating']\n",
        "to_delete = ['Number of Reviews', 'Number of Ratings']\n",
        "\n",
        "print(len(onehot)+len(manual)+len(to_delete))"
      ],
      "metadata": {
        "colab": {
          "base_uri": "https://localhost:8080/"
        },
        "id": "sTFlAyuIIgYz",
        "outputId": "46d41c5b-6fc1-4639-973b-b3f694960ae8"
      },
      "execution_count": 14,
      "outputs": [
        {
          "output_type": "stream",
          "name": "stdout",
          "text": [
            "18\n"
          ]
        }
      ]
    },
    {
      "cell_type": "markdown",
      "source": [
        "One-hot encoding can be applied using `pd.get_dummies()`"
      ],
      "metadata": {
        "id": "31-oarlnMPz2"
      }
    },
    {
      "cell_type": "code",
      "source": [
        "df = pd.get_dummies(df, columns=onehot, dtype='int64')\n",
        "df.head()"
      ],
      "metadata": {
        "colab": {
          "base_uri": "https://localhost:8080/",
          "height": 342
        },
        "id": "ReUe2yW4KWw-",
        "outputId": "8be3d14a-a95a-4cd6-f02f-0f0f3b98b412"
      },
      "execution_count": 15,
      "outputs": [
        {
          "output_type": "execute_result",
          "data": {
            "text/plain": [
              "  processor_gnrtn ram_gb     ssd      hdd  os_bit graphic_card_gb  \\\n",
              "0            10th   4 GB    0 GB  1024 GB  64-bit            0 GB   \n",
              "1            10th   4 GB    0 GB  1024 GB  64-bit            0 GB   \n",
              "2            10th   4 GB    0 GB  1024 GB  64-bit            0 GB   \n",
              "3            10th   8 GB  512 GB     0 GB  32-bit            2 GB   \n",
              "4   Not Available   4 GB    0 GB   512 GB  64-bit            0 GB   \n",
              "\n",
              "      warranty Touchscreen msoffice  Price  ... ram_type_DDR5  \\\n",
              "0  No warranty          No       No  34649  ...             0   \n",
              "1  No warranty          No       No  38999  ...             0   \n",
              "2  No warranty          No       No  39999  ...             0   \n",
              "3  No warranty          No       No  69990  ...             0   \n",
              "4  No warranty          No       No  26990  ...             0   \n",
              "\n",
              "   ram_type_LPDDR3  ram_type_LPDDR4  ram_type_LPDDR4X  os_DOS  os_Mac  \\\n",
              "0                0                0                 0       0       0   \n",
              "1                0                0                 0       0       0   \n",
              "2                0                0                 0       0       0   \n",
              "3                0                0                 0       0       0   \n",
              "4                0                0                 0       0       0   \n",
              "\n",
              "   os_Windows  weight_Casual  weight_Gaming  weight_ThinNlight  \n",
              "0           1              1              0                  0  \n",
              "1           1              1              0                  0  \n",
              "2           1              1              0                  0  \n",
              "3           1              1              0                  0  \n",
              "4           1              1              0                  0  \n",
              "\n",
              "[5 rows x 47 columns]"
            ],
            "text/html": [
              "\n",
              "  <div id=\"df-e8ea3a1c-0c7f-467c-a9ac-8c22eb0e5217\" class=\"colab-df-container\">\n",
              "    <div>\n",
              "<style scoped>\n",
              "    .dataframe tbody tr th:only-of-type {\n",
              "        vertical-align: middle;\n",
              "    }\n",
              "\n",
              "    .dataframe tbody tr th {\n",
              "        vertical-align: top;\n",
              "    }\n",
              "\n",
              "    .dataframe thead th {\n",
              "        text-align: right;\n",
              "    }\n",
              "</style>\n",
              "<table border=\"1\" class=\"dataframe\">\n",
              "  <thead>\n",
              "    <tr style=\"text-align: right;\">\n",
              "      <th></th>\n",
              "      <th>processor_gnrtn</th>\n",
              "      <th>ram_gb</th>\n",
              "      <th>ssd</th>\n",
              "      <th>hdd</th>\n",
              "      <th>os_bit</th>\n",
              "      <th>graphic_card_gb</th>\n",
              "      <th>warranty</th>\n",
              "      <th>Touchscreen</th>\n",
              "      <th>msoffice</th>\n",
              "      <th>Price</th>\n",
              "      <th>...</th>\n",
              "      <th>ram_type_DDR5</th>\n",
              "      <th>ram_type_LPDDR3</th>\n",
              "      <th>ram_type_LPDDR4</th>\n",
              "      <th>ram_type_LPDDR4X</th>\n",
              "      <th>os_DOS</th>\n",
              "      <th>os_Mac</th>\n",
              "      <th>os_Windows</th>\n",
              "      <th>weight_Casual</th>\n",
              "      <th>weight_Gaming</th>\n",
              "      <th>weight_ThinNlight</th>\n",
              "    </tr>\n",
              "  </thead>\n",
              "  <tbody>\n",
              "    <tr>\n",
              "      <th>0</th>\n",
              "      <td>10th</td>\n",
              "      <td>4 GB</td>\n",
              "      <td>0 GB</td>\n",
              "      <td>1024 GB</td>\n",
              "      <td>64-bit</td>\n",
              "      <td>0 GB</td>\n",
              "      <td>No warranty</td>\n",
              "      <td>No</td>\n",
              "      <td>No</td>\n",
              "      <td>34649</td>\n",
              "      <td>...</td>\n",
              "      <td>0</td>\n",
              "      <td>0</td>\n",
              "      <td>0</td>\n",
              "      <td>0</td>\n",
              "      <td>0</td>\n",
              "      <td>0</td>\n",
              "      <td>1</td>\n",
              "      <td>1</td>\n",
              "      <td>0</td>\n",
              "      <td>0</td>\n",
              "    </tr>\n",
              "    <tr>\n",
              "      <th>1</th>\n",
              "      <td>10th</td>\n",
              "      <td>4 GB</td>\n",
              "      <td>0 GB</td>\n",
              "      <td>1024 GB</td>\n",
              "      <td>64-bit</td>\n",
              "      <td>0 GB</td>\n",
              "      <td>No warranty</td>\n",
              "      <td>No</td>\n",
              "      <td>No</td>\n",
              "      <td>38999</td>\n",
              "      <td>...</td>\n",
              "      <td>0</td>\n",
              "      <td>0</td>\n",
              "      <td>0</td>\n",
              "      <td>0</td>\n",
              "      <td>0</td>\n",
              "      <td>0</td>\n",
              "      <td>1</td>\n",
              "      <td>1</td>\n",
              "      <td>0</td>\n",
              "      <td>0</td>\n",
              "    </tr>\n",
              "    <tr>\n",
              "      <th>2</th>\n",
              "      <td>10th</td>\n",
              "      <td>4 GB</td>\n",
              "      <td>0 GB</td>\n",
              "      <td>1024 GB</td>\n",
              "      <td>64-bit</td>\n",
              "      <td>0 GB</td>\n",
              "      <td>No warranty</td>\n",
              "      <td>No</td>\n",
              "      <td>No</td>\n",
              "      <td>39999</td>\n",
              "      <td>...</td>\n",
              "      <td>0</td>\n",
              "      <td>0</td>\n",
              "      <td>0</td>\n",
              "      <td>0</td>\n",
              "      <td>0</td>\n",
              "      <td>0</td>\n",
              "      <td>1</td>\n",
              "      <td>1</td>\n",
              "      <td>0</td>\n",
              "      <td>0</td>\n",
              "    </tr>\n",
              "    <tr>\n",
              "      <th>3</th>\n",
              "      <td>10th</td>\n",
              "      <td>8 GB</td>\n",
              "      <td>512 GB</td>\n",
              "      <td>0 GB</td>\n",
              "      <td>32-bit</td>\n",
              "      <td>2 GB</td>\n",
              "      <td>No warranty</td>\n",
              "      <td>No</td>\n",
              "      <td>No</td>\n",
              "      <td>69990</td>\n",
              "      <td>...</td>\n",
              "      <td>0</td>\n",
              "      <td>0</td>\n",
              "      <td>0</td>\n",
              "      <td>0</td>\n",
              "      <td>0</td>\n",
              "      <td>0</td>\n",
              "      <td>1</td>\n",
              "      <td>1</td>\n",
              "      <td>0</td>\n",
              "      <td>0</td>\n",
              "    </tr>\n",
              "    <tr>\n",
              "      <th>4</th>\n",
              "      <td>Not Available</td>\n",
              "      <td>4 GB</td>\n",
              "      <td>0 GB</td>\n",
              "      <td>512 GB</td>\n",
              "      <td>64-bit</td>\n",
              "      <td>0 GB</td>\n",
              "      <td>No warranty</td>\n",
              "      <td>No</td>\n",
              "      <td>No</td>\n",
              "      <td>26990</td>\n",
              "      <td>...</td>\n",
              "      <td>0</td>\n",
              "      <td>0</td>\n",
              "      <td>0</td>\n",
              "      <td>0</td>\n",
              "      <td>0</td>\n",
              "      <td>0</td>\n",
              "      <td>1</td>\n",
              "      <td>1</td>\n",
              "      <td>0</td>\n",
              "      <td>0</td>\n",
              "    </tr>\n",
              "  </tbody>\n",
              "</table>\n",
              "<p>5 rows × 47 columns</p>\n",
              "</div>\n",
              "    <div class=\"colab-df-buttons\">\n",
              "\n",
              "  <div class=\"colab-df-container\">\n",
              "    <button class=\"colab-df-convert\" onclick=\"convertToInteractive('df-e8ea3a1c-0c7f-467c-a9ac-8c22eb0e5217')\"\n",
              "            title=\"Convert this dataframe to an interactive table.\"\n",
              "            style=\"display:none;\">\n",
              "\n",
              "  <svg xmlns=\"http://www.w3.org/2000/svg\" height=\"24px\" viewBox=\"0 -960 960 960\">\n",
              "    <path d=\"M120-120v-720h720v720H120Zm60-500h600v-160H180v160Zm220 220h160v-160H400v160Zm0 220h160v-160H400v160ZM180-400h160v-160H180v160Zm440 0h160v-160H620v160ZM180-180h160v-160H180v160Zm440 0h160v-160H620v160Z\"/>\n",
              "  </svg>\n",
              "    </button>\n",
              "\n",
              "  <style>\n",
              "    .colab-df-container {\n",
              "      display:flex;\n",
              "      gap: 12px;\n",
              "    }\n",
              "\n",
              "    .colab-df-convert {\n",
              "      background-color: #E8F0FE;\n",
              "      border: none;\n",
              "      border-radius: 50%;\n",
              "      cursor: pointer;\n",
              "      display: none;\n",
              "      fill: #1967D2;\n",
              "      height: 32px;\n",
              "      padding: 0 0 0 0;\n",
              "      width: 32px;\n",
              "    }\n",
              "\n",
              "    .colab-df-convert:hover {\n",
              "      background-color: #E2EBFA;\n",
              "      box-shadow: 0px 1px 2px rgba(60, 64, 67, 0.3), 0px 1px 3px 1px rgba(60, 64, 67, 0.15);\n",
              "      fill: #174EA6;\n",
              "    }\n",
              "\n",
              "    .colab-df-buttons div {\n",
              "      margin-bottom: 4px;\n",
              "    }\n",
              "\n",
              "    [theme=dark] .colab-df-convert {\n",
              "      background-color: #3B4455;\n",
              "      fill: #D2E3FC;\n",
              "    }\n",
              "\n",
              "    [theme=dark] .colab-df-convert:hover {\n",
              "      background-color: #434B5C;\n",
              "      box-shadow: 0px 1px 3px 1px rgba(0, 0, 0, 0.15);\n",
              "      filter: drop-shadow(0px 1px 2px rgba(0, 0, 0, 0.3));\n",
              "      fill: #FFFFFF;\n",
              "    }\n",
              "  </style>\n",
              "\n",
              "    <script>\n",
              "      const buttonEl =\n",
              "        document.querySelector('#df-e8ea3a1c-0c7f-467c-a9ac-8c22eb0e5217 button.colab-df-convert');\n",
              "      buttonEl.style.display =\n",
              "        google.colab.kernel.accessAllowed ? 'block' : 'none';\n",
              "\n",
              "      async function convertToInteractive(key) {\n",
              "        const element = document.querySelector('#df-e8ea3a1c-0c7f-467c-a9ac-8c22eb0e5217');\n",
              "        const dataTable =\n",
              "          await google.colab.kernel.invokeFunction('convertToInteractive',\n",
              "                                                    [key], {});\n",
              "        if (!dataTable) return;\n",
              "\n",
              "        const docLinkHtml = 'Like what you see? Visit the ' +\n",
              "          '<a target=\"_blank\" href=https://colab.research.google.com/notebooks/data_table.ipynb>data table notebook</a>'\n",
              "          + ' to learn more about interactive tables.';\n",
              "        element.innerHTML = '';\n",
              "        dataTable['output_type'] = 'display_data';\n",
              "        await google.colab.output.renderOutput(dataTable, element);\n",
              "        const docLink = document.createElement('div');\n",
              "        docLink.innerHTML = docLinkHtml;\n",
              "        element.appendChild(docLink);\n",
              "      }\n",
              "    </script>\n",
              "  </div>\n",
              "\n",
              "\n",
              "<div id=\"df-abc70ab8-bf5b-4208-8756-205d7482ea4f\">\n",
              "  <button class=\"colab-df-quickchart\" onclick=\"quickchart('df-abc70ab8-bf5b-4208-8756-205d7482ea4f')\"\n",
              "            title=\"Suggest charts\"\n",
              "            style=\"display:none;\">\n",
              "\n",
              "<svg xmlns=\"http://www.w3.org/2000/svg\" height=\"24px\"viewBox=\"0 0 24 24\"\n",
              "     width=\"24px\">\n",
              "    <g>\n",
              "        <path d=\"M19 3H5c-1.1 0-2 .9-2 2v14c0 1.1.9 2 2 2h14c1.1 0 2-.9 2-2V5c0-1.1-.9-2-2-2zM9 17H7v-7h2v7zm4 0h-2V7h2v10zm4 0h-2v-4h2v4z\"/>\n",
              "    </g>\n",
              "</svg>\n",
              "  </button>\n",
              "\n",
              "<style>\n",
              "  .colab-df-quickchart {\n",
              "      --bg-color: #E8F0FE;\n",
              "      --fill-color: #1967D2;\n",
              "      --hover-bg-color: #E2EBFA;\n",
              "      --hover-fill-color: #174EA6;\n",
              "      --disabled-fill-color: #AAA;\n",
              "      --disabled-bg-color: #DDD;\n",
              "  }\n",
              "\n",
              "  [theme=dark] .colab-df-quickchart {\n",
              "      --bg-color: #3B4455;\n",
              "      --fill-color: #D2E3FC;\n",
              "      --hover-bg-color: #434B5C;\n",
              "      --hover-fill-color: #FFFFFF;\n",
              "      --disabled-bg-color: #3B4455;\n",
              "      --disabled-fill-color: #666;\n",
              "  }\n",
              "\n",
              "  .colab-df-quickchart {\n",
              "    background-color: var(--bg-color);\n",
              "    border: none;\n",
              "    border-radius: 50%;\n",
              "    cursor: pointer;\n",
              "    display: none;\n",
              "    fill: var(--fill-color);\n",
              "    height: 32px;\n",
              "    padding: 0;\n",
              "    width: 32px;\n",
              "  }\n",
              "\n",
              "  .colab-df-quickchart:hover {\n",
              "    background-color: var(--hover-bg-color);\n",
              "    box-shadow: 0 1px 2px rgba(60, 64, 67, 0.3), 0 1px 3px 1px rgba(60, 64, 67, 0.15);\n",
              "    fill: var(--button-hover-fill-color);\n",
              "  }\n",
              "\n",
              "  .colab-df-quickchart-complete:disabled,\n",
              "  .colab-df-quickchart-complete:disabled:hover {\n",
              "    background-color: var(--disabled-bg-color);\n",
              "    fill: var(--disabled-fill-color);\n",
              "    box-shadow: none;\n",
              "  }\n",
              "\n",
              "  .colab-df-spinner {\n",
              "    border: 2px solid var(--fill-color);\n",
              "    border-color: transparent;\n",
              "    border-bottom-color: var(--fill-color);\n",
              "    animation:\n",
              "      spin 1s steps(1) infinite;\n",
              "  }\n",
              "\n",
              "  @keyframes spin {\n",
              "    0% {\n",
              "      border-color: transparent;\n",
              "      border-bottom-color: var(--fill-color);\n",
              "      border-left-color: var(--fill-color);\n",
              "    }\n",
              "    20% {\n",
              "      border-color: transparent;\n",
              "      border-left-color: var(--fill-color);\n",
              "      border-top-color: var(--fill-color);\n",
              "    }\n",
              "    30% {\n",
              "      border-color: transparent;\n",
              "      border-left-color: var(--fill-color);\n",
              "      border-top-color: var(--fill-color);\n",
              "      border-right-color: var(--fill-color);\n",
              "    }\n",
              "    40% {\n",
              "      border-color: transparent;\n",
              "      border-right-color: var(--fill-color);\n",
              "      border-top-color: var(--fill-color);\n",
              "    }\n",
              "    60% {\n",
              "      border-color: transparent;\n",
              "      border-right-color: var(--fill-color);\n",
              "    }\n",
              "    80% {\n",
              "      border-color: transparent;\n",
              "      border-right-color: var(--fill-color);\n",
              "      border-bottom-color: var(--fill-color);\n",
              "    }\n",
              "    90% {\n",
              "      border-color: transparent;\n",
              "      border-bottom-color: var(--fill-color);\n",
              "    }\n",
              "  }\n",
              "</style>\n",
              "\n",
              "  <script>\n",
              "    async function quickchart(key) {\n",
              "      const quickchartButtonEl =\n",
              "        document.querySelector('#' + key + ' button');\n",
              "      quickchartButtonEl.disabled = true;  // To prevent multiple clicks.\n",
              "      quickchartButtonEl.classList.add('colab-df-spinner');\n",
              "      try {\n",
              "        const charts = await google.colab.kernel.invokeFunction(\n",
              "            'suggestCharts', [key], {});\n",
              "      } catch (error) {\n",
              "        console.error('Error during call to suggestCharts:', error);\n",
              "      }\n",
              "      quickchartButtonEl.classList.remove('colab-df-spinner');\n",
              "      quickchartButtonEl.classList.add('colab-df-quickchart-complete');\n",
              "    }\n",
              "    (() => {\n",
              "      let quickchartButtonEl =\n",
              "        document.querySelector('#df-abc70ab8-bf5b-4208-8756-205d7482ea4f button');\n",
              "      quickchartButtonEl.style.display =\n",
              "        google.colab.kernel.accessAllowed ? 'block' : 'none';\n",
              "    })();\n",
              "  </script>\n",
              "</div>\n",
              "\n",
              "    </div>\n",
              "  </div>\n"
            ],
            "application/vnd.google.colaboratory.intrinsic+json": {
              "type": "dataframe",
              "variable_name": "df"
            }
          },
          "metadata": {},
          "execution_count": 15
        }
      ]
    },
    {
      "cell_type": "markdown",
      "source": [
        "We notice the number of columns has increased to 47 as a result of one-hot encoding."
      ],
      "metadata": {
        "id": "vbiA2NvyMeQ1"
      }
    },
    {
      "cell_type": "code",
      "source": [
        "df.info()"
      ],
      "metadata": {
        "colab": {
          "base_uri": "https://localhost:8080/"
        },
        "id": "6ogh92s2UOF_",
        "outputId": "abebae18-3b95-4dd2-8ae4-1e9175a6f049"
      },
      "execution_count": 16,
      "outputs": [
        {
          "output_type": "stream",
          "name": "stdout",
          "text": [
            "<class 'pandas.core.frame.DataFrame'>\n",
            "Index: 773 entries, 0 to 822\n",
            "Data columns (total 47 columns):\n",
            " #   Column                       Non-Null Count  Dtype \n",
            "---  ------                       --------------  ----- \n",
            " 0   processor_gnrtn              773 non-null    object\n",
            " 1   ram_gb                       773 non-null    object\n",
            " 2   ssd                          773 non-null    object\n",
            " 3   hdd                          773 non-null    object\n",
            " 4   os_bit                       773 non-null    object\n",
            " 5   graphic_card_gb              773 non-null    object\n",
            " 6   warranty                     773 non-null    object\n",
            " 7   Touchscreen                  773 non-null    object\n",
            " 8   msoffice                     773 non-null    object\n",
            " 9   Price                        773 non-null    int64 \n",
            " 10  rating                       773 non-null    object\n",
            " 11  Number of Ratings            773 non-null    int64 \n",
            " 12  Number of Reviews            773 non-null    int64 \n",
            " 13  brand_APPLE                  773 non-null    int64 \n",
            " 14  brand_ASUS                   773 non-null    int64 \n",
            " 15  brand_Avita                  773 non-null    int64 \n",
            " 16  brand_DELL                   773 non-null    int64 \n",
            " 17  brand_HP                     773 non-null    int64 \n",
            " 18  brand_Lenovo                 773 non-null    int64 \n",
            " 19  brand_MSI                    773 non-null    int64 \n",
            " 20  brand_acer                   773 non-null    int64 \n",
            " 21  processor_brand_AMD          773 non-null    int64 \n",
            " 22  processor_brand_Intel        773 non-null    int64 \n",
            " 23  processor_brand_M1           773 non-null    int64 \n",
            " 24  processor_name_Celeron Dual  773 non-null    int64 \n",
            " 25  processor_name_Core i3       773 non-null    int64 \n",
            " 26  processor_name_Core i5       773 non-null    int64 \n",
            " 27  processor_name_Core i7       773 non-null    int64 \n",
            " 28  processor_name_Core i9       773 non-null    int64 \n",
            " 29  processor_name_M1            773 non-null    int64 \n",
            " 30  processor_name_Pentium Quad  773 non-null    int64 \n",
            " 31  processor_name_Ryzen 3       773 non-null    int64 \n",
            " 32  processor_name_Ryzen 5       773 non-null    int64 \n",
            " 33  processor_name_Ryzen 7       773 non-null    int64 \n",
            " 34  processor_name_Ryzen 9       773 non-null    int64 \n",
            " 35  ram_type_DDR3                773 non-null    int64 \n",
            " 36  ram_type_DDR4                773 non-null    int64 \n",
            " 37  ram_type_DDR5                773 non-null    int64 \n",
            " 38  ram_type_LPDDR3              773 non-null    int64 \n",
            " 39  ram_type_LPDDR4              773 non-null    int64 \n",
            " 40  ram_type_LPDDR4X             773 non-null    int64 \n",
            " 41  os_DOS                       773 non-null    int64 \n",
            " 42  os_Mac                       773 non-null    int64 \n",
            " 43  os_Windows                   773 non-null    int64 \n",
            " 44  weight_Casual                773 non-null    int64 \n",
            " 45  weight_Gaming                773 non-null    int64 \n",
            " 46  weight_ThinNlight            773 non-null    int64 \n",
            "dtypes: int64(37), object(10)\n",
            "memory usage: 289.9+ KB\n"
          ]
        }
      ]
    },
    {
      "cell_type": "markdown",
      "source": [
        "Manually encoded columns differ depending on their values.\\\n",
        "For example some columns should be without 'GB' or without 'th'. so, we perform **Manual Encoding**."
      ],
      "metadata": {
        "id": "kAwfsR7gMpGP"
      }
    },
    {
      "cell_type": "code",
      "source": [
        "df['processor_gnrtn'] = df['processor_gnrtn'].replace({'Not Available': -1, '10th':10, '11th':11, '7th':7, '8th':8, '9th':9, '4th':4, '12th': 12})\n",
        "df['ram_gb'] = df['ram_gb'].str.replace('GB', '').astype(int)\n",
        "df['ssd'] = df['ssd'].str.replace('GB', '').astype(int)\n",
        "df['hdd'] = df['hdd'].str.replace('GB', '').astype(int)\n",
        "df['graphic_card_gb'] = df['graphic_card_gb'].str.replace('GB', '').astype(int)\n",
        "df['os_bit'] = df['os_bit'].replace({'64-bit': 64, '32-bit': 32})\n",
        "df['warranty'] = df['warranty'].replace({'No warranty':0, '1 year': 1, '2 years': 2, '3 years': 3})\n",
        "df['Touchscreen'] = df['Touchscreen'].replace({'Yes': 1, 'No': 0})\n",
        "df['msoffice'] = df['msoffice'].replace({'Yes': 1, 'No': 0})\n",
        "df['rating'] = df['rating'].str[0].astype(int)"
      ],
      "metadata": {
        "id": "bW585GndKnUC"
      },
      "execution_count": 17,
      "outputs": []
    },
    {
      "cell_type": "markdown",
      "source": [
        "We drop the columns that are not useful using `df.drop()`"
      ],
      "metadata": {
        "id": "5H4XaubyOqkZ"
      }
    },
    {
      "cell_type": "code",
      "source": [
        "df.drop(columns=to_delete, inplace=True)"
      ],
      "metadata": {
        "id": "6IDsYfV1RNrj"
      },
      "execution_count": 18,
      "outputs": []
    },
    {
      "cell_type": "code",
      "source": [
        "df.head()"
      ],
      "metadata": {
        "colab": {
          "base_uri": "https://localhost:8080/",
          "height": 255
        },
        "id": "GWJR2oJ5ThC1",
        "outputId": "37a8e31f-ce85-4d1c-8580-f56c4fe2de19"
      },
      "execution_count": 19,
      "outputs": [
        {
          "output_type": "execute_result",
          "data": {
            "text/plain": [
              "   processor_gnrtn  ram_gb  ssd   hdd  os_bit  graphic_card_gb  warranty  \\\n",
              "0               10       4    0  1024      64                0         0   \n",
              "1               10       4    0  1024      64                0         0   \n",
              "2               10       4    0  1024      64                0         0   \n",
              "3               10       8  512     0      32                2         0   \n",
              "4               -1       4    0   512      64                0         0   \n",
              "\n",
              "   Touchscreen  msoffice  Price  ...  ram_type_DDR5  ram_type_LPDDR3  \\\n",
              "0            0         0  34649  ...              0                0   \n",
              "1            0         0  38999  ...              0                0   \n",
              "2            0         0  39999  ...              0                0   \n",
              "3            0         0  69990  ...              0                0   \n",
              "4            0         0  26990  ...              0                0   \n",
              "\n",
              "   ram_type_LPDDR4  ram_type_LPDDR4X  os_DOS  os_Mac  os_Windows  \\\n",
              "0                0                 0       0       0           1   \n",
              "1                0                 0       0       0           1   \n",
              "2                0                 0       0       0           1   \n",
              "3                0                 0       0       0           1   \n",
              "4                0                 0       0       0           1   \n",
              "\n",
              "   weight_Casual  weight_Gaming  weight_ThinNlight  \n",
              "0              1              0                  0  \n",
              "1              1              0                  0  \n",
              "2              1              0                  0  \n",
              "3              1              0                  0  \n",
              "4              1              0                  0  \n",
              "\n",
              "[5 rows x 45 columns]"
            ],
            "text/html": [
              "\n",
              "  <div id=\"df-c3e8c00b-ac71-46c0-9bd4-4cb0237ff622\" class=\"colab-df-container\">\n",
              "    <div>\n",
              "<style scoped>\n",
              "    .dataframe tbody tr th:only-of-type {\n",
              "        vertical-align: middle;\n",
              "    }\n",
              "\n",
              "    .dataframe tbody tr th {\n",
              "        vertical-align: top;\n",
              "    }\n",
              "\n",
              "    .dataframe thead th {\n",
              "        text-align: right;\n",
              "    }\n",
              "</style>\n",
              "<table border=\"1\" class=\"dataframe\">\n",
              "  <thead>\n",
              "    <tr style=\"text-align: right;\">\n",
              "      <th></th>\n",
              "      <th>processor_gnrtn</th>\n",
              "      <th>ram_gb</th>\n",
              "      <th>ssd</th>\n",
              "      <th>hdd</th>\n",
              "      <th>os_bit</th>\n",
              "      <th>graphic_card_gb</th>\n",
              "      <th>warranty</th>\n",
              "      <th>Touchscreen</th>\n",
              "      <th>msoffice</th>\n",
              "      <th>Price</th>\n",
              "      <th>...</th>\n",
              "      <th>ram_type_DDR5</th>\n",
              "      <th>ram_type_LPDDR3</th>\n",
              "      <th>ram_type_LPDDR4</th>\n",
              "      <th>ram_type_LPDDR4X</th>\n",
              "      <th>os_DOS</th>\n",
              "      <th>os_Mac</th>\n",
              "      <th>os_Windows</th>\n",
              "      <th>weight_Casual</th>\n",
              "      <th>weight_Gaming</th>\n",
              "      <th>weight_ThinNlight</th>\n",
              "    </tr>\n",
              "  </thead>\n",
              "  <tbody>\n",
              "    <tr>\n",
              "      <th>0</th>\n",
              "      <td>10</td>\n",
              "      <td>4</td>\n",
              "      <td>0</td>\n",
              "      <td>1024</td>\n",
              "      <td>64</td>\n",
              "      <td>0</td>\n",
              "      <td>0</td>\n",
              "      <td>0</td>\n",
              "      <td>0</td>\n",
              "      <td>34649</td>\n",
              "      <td>...</td>\n",
              "      <td>0</td>\n",
              "      <td>0</td>\n",
              "      <td>0</td>\n",
              "      <td>0</td>\n",
              "      <td>0</td>\n",
              "      <td>0</td>\n",
              "      <td>1</td>\n",
              "      <td>1</td>\n",
              "      <td>0</td>\n",
              "      <td>0</td>\n",
              "    </tr>\n",
              "    <tr>\n",
              "      <th>1</th>\n",
              "      <td>10</td>\n",
              "      <td>4</td>\n",
              "      <td>0</td>\n",
              "      <td>1024</td>\n",
              "      <td>64</td>\n",
              "      <td>0</td>\n",
              "      <td>0</td>\n",
              "      <td>0</td>\n",
              "      <td>0</td>\n",
              "      <td>38999</td>\n",
              "      <td>...</td>\n",
              "      <td>0</td>\n",
              "      <td>0</td>\n",
              "      <td>0</td>\n",
              "      <td>0</td>\n",
              "      <td>0</td>\n",
              "      <td>0</td>\n",
              "      <td>1</td>\n",
              "      <td>1</td>\n",
              "      <td>0</td>\n",
              "      <td>0</td>\n",
              "    </tr>\n",
              "    <tr>\n",
              "      <th>2</th>\n",
              "      <td>10</td>\n",
              "      <td>4</td>\n",
              "      <td>0</td>\n",
              "      <td>1024</td>\n",
              "      <td>64</td>\n",
              "      <td>0</td>\n",
              "      <td>0</td>\n",
              "      <td>0</td>\n",
              "      <td>0</td>\n",
              "      <td>39999</td>\n",
              "      <td>...</td>\n",
              "      <td>0</td>\n",
              "      <td>0</td>\n",
              "      <td>0</td>\n",
              "      <td>0</td>\n",
              "      <td>0</td>\n",
              "      <td>0</td>\n",
              "      <td>1</td>\n",
              "      <td>1</td>\n",
              "      <td>0</td>\n",
              "      <td>0</td>\n",
              "    </tr>\n",
              "    <tr>\n",
              "      <th>3</th>\n",
              "      <td>10</td>\n",
              "      <td>8</td>\n",
              "      <td>512</td>\n",
              "      <td>0</td>\n",
              "      <td>32</td>\n",
              "      <td>2</td>\n",
              "      <td>0</td>\n",
              "      <td>0</td>\n",
              "      <td>0</td>\n",
              "      <td>69990</td>\n",
              "      <td>...</td>\n",
              "      <td>0</td>\n",
              "      <td>0</td>\n",
              "      <td>0</td>\n",
              "      <td>0</td>\n",
              "      <td>0</td>\n",
              "      <td>0</td>\n",
              "      <td>1</td>\n",
              "      <td>1</td>\n",
              "      <td>0</td>\n",
              "      <td>0</td>\n",
              "    </tr>\n",
              "    <tr>\n",
              "      <th>4</th>\n",
              "      <td>-1</td>\n",
              "      <td>4</td>\n",
              "      <td>0</td>\n",
              "      <td>512</td>\n",
              "      <td>64</td>\n",
              "      <td>0</td>\n",
              "      <td>0</td>\n",
              "      <td>0</td>\n",
              "      <td>0</td>\n",
              "      <td>26990</td>\n",
              "      <td>...</td>\n",
              "      <td>0</td>\n",
              "      <td>0</td>\n",
              "      <td>0</td>\n",
              "      <td>0</td>\n",
              "      <td>0</td>\n",
              "      <td>0</td>\n",
              "      <td>1</td>\n",
              "      <td>1</td>\n",
              "      <td>0</td>\n",
              "      <td>0</td>\n",
              "    </tr>\n",
              "  </tbody>\n",
              "</table>\n",
              "<p>5 rows × 45 columns</p>\n",
              "</div>\n",
              "    <div class=\"colab-df-buttons\">\n",
              "\n",
              "  <div class=\"colab-df-container\">\n",
              "    <button class=\"colab-df-convert\" onclick=\"convertToInteractive('df-c3e8c00b-ac71-46c0-9bd4-4cb0237ff622')\"\n",
              "            title=\"Convert this dataframe to an interactive table.\"\n",
              "            style=\"display:none;\">\n",
              "\n",
              "  <svg xmlns=\"http://www.w3.org/2000/svg\" height=\"24px\" viewBox=\"0 -960 960 960\">\n",
              "    <path d=\"M120-120v-720h720v720H120Zm60-500h600v-160H180v160Zm220 220h160v-160H400v160Zm0 220h160v-160H400v160ZM180-400h160v-160H180v160Zm440 0h160v-160H620v160ZM180-180h160v-160H180v160Zm440 0h160v-160H620v160Z\"/>\n",
              "  </svg>\n",
              "    </button>\n",
              "\n",
              "  <style>\n",
              "    .colab-df-container {\n",
              "      display:flex;\n",
              "      gap: 12px;\n",
              "    }\n",
              "\n",
              "    .colab-df-convert {\n",
              "      background-color: #E8F0FE;\n",
              "      border: none;\n",
              "      border-radius: 50%;\n",
              "      cursor: pointer;\n",
              "      display: none;\n",
              "      fill: #1967D2;\n",
              "      height: 32px;\n",
              "      padding: 0 0 0 0;\n",
              "      width: 32px;\n",
              "    }\n",
              "\n",
              "    .colab-df-convert:hover {\n",
              "      background-color: #E2EBFA;\n",
              "      box-shadow: 0px 1px 2px rgba(60, 64, 67, 0.3), 0px 1px 3px 1px rgba(60, 64, 67, 0.15);\n",
              "      fill: #174EA6;\n",
              "    }\n",
              "\n",
              "    .colab-df-buttons div {\n",
              "      margin-bottom: 4px;\n",
              "    }\n",
              "\n",
              "    [theme=dark] .colab-df-convert {\n",
              "      background-color: #3B4455;\n",
              "      fill: #D2E3FC;\n",
              "    }\n",
              "\n",
              "    [theme=dark] .colab-df-convert:hover {\n",
              "      background-color: #434B5C;\n",
              "      box-shadow: 0px 1px 3px 1px rgba(0, 0, 0, 0.15);\n",
              "      filter: drop-shadow(0px 1px 2px rgba(0, 0, 0, 0.3));\n",
              "      fill: #FFFFFF;\n",
              "    }\n",
              "  </style>\n",
              "\n",
              "    <script>\n",
              "      const buttonEl =\n",
              "        document.querySelector('#df-c3e8c00b-ac71-46c0-9bd4-4cb0237ff622 button.colab-df-convert');\n",
              "      buttonEl.style.display =\n",
              "        google.colab.kernel.accessAllowed ? 'block' : 'none';\n",
              "\n",
              "      async function convertToInteractive(key) {\n",
              "        const element = document.querySelector('#df-c3e8c00b-ac71-46c0-9bd4-4cb0237ff622');\n",
              "        const dataTable =\n",
              "          await google.colab.kernel.invokeFunction('convertToInteractive',\n",
              "                                                    [key], {});\n",
              "        if (!dataTable) return;\n",
              "\n",
              "        const docLinkHtml = 'Like what you see? Visit the ' +\n",
              "          '<a target=\"_blank\" href=https://colab.research.google.com/notebooks/data_table.ipynb>data table notebook</a>'\n",
              "          + ' to learn more about interactive tables.';\n",
              "        element.innerHTML = '';\n",
              "        dataTable['output_type'] = 'display_data';\n",
              "        await google.colab.output.renderOutput(dataTable, element);\n",
              "        const docLink = document.createElement('div');\n",
              "        docLink.innerHTML = docLinkHtml;\n",
              "        element.appendChild(docLink);\n",
              "      }\n",
              "    </script>\n",
              "  </div>\n",
              "\n",
              "\n",
              "<div id=\"df-35f8b463-0ac0-4fa2-8a8b-39af3e3d5502\">\n",
              "  <button class=\"colab-df-quickchart\" onclick=\"quickchart('df-35f8b463-0ac0-4fa2-8a8b-39af3e3d5502')\"\n",
              "            title=\"Suggest charts\"\n",
              "            style=\"display:none;\">\n",
              "\n",
              "<svg xmlns=\"http://www.w3.org/2000/svg\" height=\"24px\"viewBox=\"0 0 24 24\"\n",
              "     width=\"24px\">\n",
              "    <g>\n",
              "        <path d=\"M19 3H5c-1.1 0-2 .9-2 2v14c0 1.1.9 2 2 2h14c1.1 0 2-.9 2-2V5c0-1.1-.9-2-2-2zM9 17H7v-7h2v7zm4 0h-2V7h2v10zm4 0h-2v-4h2v4z\"/>\n",
              "    </g>\n",
              "</svg>\n",
              "  </button>\n",
              "\n",
              "<style>\n",
              "  .colab-df-quickchart {\n",
              "      --bg-color: #E8F0FE;\n",
              "      --fill-color: #1967D2;\n",
              "      --hover-bg-color: #E2EBFA;\n",
              "      --hover-fill-color: #174EA6;\n",
              "      --disabled-fill-color: #AAA;\n",
              "      --disabled-bg-color: #DDD;\n",
              "  }\n",
              "\n",
              "  [theme=dark] .colab-df-quickchart {\n",
              "      --bg-color: #3B4455;\n",
              "      --fill-color: #D2E3FC;\n",
              "      --hover-bg-color: #434B5C;\n",
              "      --hover-fill-color: #FFFFFF;\n",
              "      --disabled-bg-color: #3B4455;\n",
              "      --disabled-fill-color: #666;\n",
              "  }\n",
              "\n",
              "  .colab-df-quickchart {\n",
              "    background-color: var(--bg-color);\n",
              "    border: none;\n",
              "    border-radius: 50%;\n",
              "    cursor: pointer;\n",
              "    display: none;\n",
              "    fill: var(--fill-color);\n",
              "    height: 32px;\n",
              "    padding: 0;\n",
              "    width: 32px;\n",
              "  }\n",
              "\n",
              "  .colab-df-quickchart:hover {\n",
              "    background-color: var(--hover-bg-color);\n",
              "    box-shadow: 0 1px 2px rgba(60, 64, 67, 0.3), 0 1px 3px 1px rgba(60, 64, 67, 0.15);\n",
              "    fill: var(--button-hover-fill-color);\n",
              "  }\n",
              "\n",
              "  .colab-df-quickchart-complete:disabled,\n",
              "  .colab-df-quickchart-complete:disabled:hover {\n",
              "    background-color: var(--disabled-bg-color);\n",
              "    fill: var(--disabled-fill-color);\n",
              "    box-shadow: none;\n",
              "  }\n",
              "\n",
              "  .colab-df-spinner {\n",
              "    border: 2px solid var(--fill-color);\n",
              "    border-color: transparent;\n",
              "    border-bottom-color: var(--fill-color);\n",
              "    animation:\n",
              "      spin 1s steps(1) infinite;\n",
              "  }\n",
              "\n",
              "  @keyframes spin {\n",
              "    0% {\n",
              "      border-color: transparent;\n",
              "      border-bottom-color: var(--fill-color);\n",
              "      border-left-color: var(--fill-color);\n",
              "    }\n",
              "    20% {\n",
              "      border-color: transparent;\n",
              "      border-left-color: var(--fill-color);\n",
              "      border-top-color: var(--fill-color);\n",
              "    }\n",
              "    30% {\n",
              "      border-color: transparent;\n",
              "      border-left-color: var(--fill-color);\n",
              "      border-top-color: var(--fill-color);\n",
              "      border-right-color: var(--fill-color);\n",
              "    }\n",
              "    40% {\n",
              "      border-color: transparent;\n",
              "      border-right-color: var(--fill-color);\n",
              "      border-top-color: var(--fill-color);\n",
              "    }\n",
              "    60% {\n",
              "      border-color: transparent;\n",
              "      border-right-color: var(--fill-color);\n",
              "    }\n",
              "    80% {\n",
              "      border-color: transparent;\n",
              "      border-right-color: var(--fill-color);\n",
              "      border-bottom-color: var(--fill-color);\n",
              "    }\n",
              "    90% {\n",
              "      border-color: transparent;\n",
              "      border-bottom-color: var(--fill-color);\n",
              "    }\n",
              "  }\n",
              "</style>\n",
              "\n",
              "  <script>\n",
              "    async function quickchart(key) {\n",
              "      const quickchartButtonEl =\n",
              "        document.querySelector('#' + key + ' button');\n",
              "      quickchartButtonEl.disabled = true;  // To prevent multiple clicks.\n",
              "      quickchartButtonEl.classList.add('colab-df-spinner');\n",
              "      try {\n",
              "        const charts = await google.colab.kernel.invokeFunction(\n",
              "            'suggestCharts', [key], {});\n",
              "      } catch (error) {\n",
              "        console.error('Error during call to suggestCharts:', error);\n",
              "      }\n",
              "      quickchartButtonEl.classList.remove('colab-df-spinner');\n",
              "      quickchartButtonEl.classList.add('colab-df-quickchart-complete');\n",
              "    }\n",
              "    (() => {\n",
              "      let quickchartButtonEl =\n",
              "        document.querySelector('#df-35f8b463-0ac0-4fa2-8a8b-39af3e3d5502 button');\n",
              "      quickchartButtonEl.style.display =\n",
              "        google.colab.kernel.accessAllowed ? 'block' : 'none';\n",
              "    })();\n",
              "  </script>\n",
              "</div>\n",
              "\n",
              "    </div>\n",
              "  </div>\n"
            ],
            "application/vnd.google.colaboratory.intrinsic+json": {
              "type": "dataframe",
              "variable_name": "df"
            }
          },
          "metadata": {},
          "execution_count": 19
        }
      ]
    },
    {
      "cell_type": "code",
      "source": [
        "df.info()"
      ],
      "metadata": {
        "colab": {
          "base_uri": "https://localhost:8080/"
        },
        "id": "RYDK2s4iU9mn",
        "outputId": "5a343ff2-3e77-46f5-9029-adcc5eae8d8a"
      },
      "execution_count": 20,
      "outputs": [
        {
          "output_type": "stream",
          "name": "stdout",
          "text": [
            "<class 'pandas.core.frame.DataFrame'>\n",
            "Index: 773 entries, 0 to 822\n",
            "Data columns (total 45 columns):\n",
            " #   Column                       Non-Null Count  Dtype\n",
            "---  ------                       --------------  -----\n",
            " 0   processor_gnrtn              773 non-null    int64\n",
            " 1   ram_gb                       773 non-null    int64\n",
            " 2   ssd                          773 non-null    int64\n",
            " 3   hdd                          773 non-null    int64\n",
            " 4   os_bit                       773 non-null    int64\n",
            " 5   graphic_card_gb              773 non-null    int64\n",
            " 6   warranty                     773 non-null    int64\n",
            " 7   Touchscreen                  773 non-null    int64\n",
            " 8   msoffice                     773 non-null    int64\n",
            " 9   Price                        773 non-null    int64\n",
            " 10  rating                       773 non-null    int64\n",
            " 11  brand_APPLE                  773 non-null    int64\n",
            " 12  brand_ASUS                   773 non-null    int64\n",
            " 13  brand_Avita                  773 non-null    int64\n",
            " 14  brand_DELL                   773 non-null    int64\n",
            " 15  brand_HP                     773 non-null    int64\n",
            " 16  brand_Lenovo                 773 non-null    int64\n",
            " 17  brand_MSI                    773 non-null    int64\n",
            " 18  brand_acer                   773 non-null    int64\n",
            " 19  processor_brand_AMD          773 non-null    int64\n",
            " 20  processor_brand_Intel        773 non-null    int64\n",
            " 21  processor_brand_M1           773 non-null    int64\n",
            " 22  processor_name_Celeron Dual  773 non-null    int64\n",
            " 23  processor_name_Core i3       773 non-null    int64\n",
            " 24  processor_name_Core i5       773 non-null    int64\n",
            " 25  processor_name_Core i7       773 non-null    int64\n",
            " 26  processor_name_Core i9       773 non-null    int64\n",
            " 27  processor_name_M1            773 non-null    int64\n",
            " 28  processor_name_Pentium Quad  773 non-null    int64\n",
            " 29  processor_name_Ryzen 3       773 non-null    int64\n",
            " 30  processor_name_Ryzen 5       773 non-null    int64\n",
            " 31  processor_name_Ryzen 7       773 non-null    int64\n",
            " 32  processor_name_Ryzen 9       773 non-null    int64\n",
            " 33  ram_type_DDR3                773 non-null    int64\n",
            " 34  ram_type_DDR4                773 non-null    int64\n",
            " 35  ram_type_DDR5                773 non-null    int64\n",
            " 36  ram_type_LPDDR3              773 non-null    int64\n",
            " 37  ram_type_LPDDR4              773 non-null    int64\n",
            " 38  ram_type_LPDDR4X             773 non-null    int64\n",
            " 39  os_DOS                       773 non-null    int64\n",
            " 40  os_Mac                       773 non-null    int64\n",
            " 41  os_Windows                   773 non-null    int64\n",
            " 42  weight_Casual                773 non-null    int64\n",
            " 43  weight_Gaming                773 non-null    int64\n",
            " 44  weight_ThinNlight            773 non-null    int64\n",
            "dtypes: int64(45)\n",
            "memory usage: 277.8 KB\n"
          ]
        }
      ]
    },
    {
      "cell_type": "markdown",
      "source": [
        "Check for duplicated data and drop them if existed using `df.duplicated().sum()` and `df.drop_duplicates()`."
      ],
      "metadata": {
        "id": "kOVPDLaQPTMQ"
      }
    },
    {
      "cell_type": "code",
      "source": [
        "df.duplicated().sum()"
      ],
      "metadata": {
        "colab": {
          "base_uri": "https://localhost:8080/"
        },
        "id": "z78vD7wDVBmT",
        "outputId": "d81c5cf3-a3b8-42b9-9dbc-9375a0ce601d"
      },
      "execution_count": 21,
      "outputs": [
        {
          "output_type": "execute_result",
          "data": {
            "text/plain": [
              "29"
            ]
          },
          "metadata": {},
          "execution_count": 21
        }
      ]
    },
    {
      "cell_type": "code",
      "source": [
        "df.drop_duplicates(inplace=True, ignore_index=True)\n",
        "df.duplicated().sum()"
      ],
      "metadata": {
        "colab": {
          "base_uri": "https://localhost:8080/"
        },
        "id": "f4Qr0ANWVLeH",
        "outputId": "39820a60-8c05-4d35-efc3-3718e927d1a4"
      },
      "execution_count": 22,
      "outputs": [
        {
          "output_type": "execute_result",
          "data": {
            "text/plain": [
              "0"
            ]
          },
          "metadata": {},
          "execution_count": 22
        }
      ]
    },
    {
      "cell_type": "code",
      "source": [
        "df.info()"
      ],
      "metadata": {
        "colab": {
          "base_uri": "https://localhost:8080/"
        },
        "id": "Dp1ae5S6Vohq",
        "outputId": "d4376e93-f7cf-4c4b-cdc7-2e48f84a4e88"
      },
      "execution_count": 23,
      "outputs": [
        {
          "output_type": "stream",
          "name": "stdout",
          "text": [
            "<class 'pandas.core.frame.DataFrame'>\n",
            "RangeIndex: 744 entries, 0 to 743\n",
            "Data columns (total 45 columns):\n",
            " #   Column                       Non-Null Count  Dtype\n",
            "---  ------                       --------------  -----\n",
            " 0   processor_gnrtn              744 non-null    int64\n",
            " 1   ram_gb                       744 non-null    int64\n",
            " 2   ssd                          744 non-null    int64\n",
            " 3   hdd                          744 non-null    int64\n",
            " 4   os_bit                       744 non-null    int64\n",
            " 5   graphic_card_gb              744 non-null    int64\n",
            " 6   warranty                     744 non-null    int64\n",
            " 7   Touchscreen                  744 non-null    int64\n",
            " 8   msoffice                     744 non-null    int64\n",
            " 9   Price                        744 non-null    int64\n",
            " 10  rating                       744 non-null    int64\n",
            " 11  brand_APPLE                  744 non-null    int64\n",
            " 12  brand_ASUS                   744 non-null    int64\n",
            " 13  brand_Avita                  744 non-null    int64\n",
            " 14  brand_DELL                   744 non-null    int64\n",
            " 15  brand_HP                     744 non-null    int64\n",
            " 16  brand_Lenovo                 744 non-null    int64\n",
            " 17  brand_MSI                    744 non-null    int64\n",
            " 18  brand_acer                   744 non-null    int64\n",
            " 19  processor_brand_AMD          744 non-null    int64\n",
            " 20  processor_brand_Intel        744 non-null    int64\n",
            " 21  processor_brand_M1           744 non-null    int64\n",
            " 22  processor_name_Celeron Dual  744 non-null    int64\n",
            " 23  processor_name_Core i3       744 non-null    int64\n",
            " 24  processor_name_Core i5       744 non-null    int64\n",
            " 25  processor_name_Core i7       744 non-null    int64\n",
            " 26  processor_name_Core i9       744 non-null    int64\n",
            " 27  processor_name_M1            744 non-null    int64\n",
            " 28  processor_name_Pentium Quad  744 non-null    int64\n",
            " 29  processor_name_Ryzen 3       744 non-null    int64\n",
            " 30  processor_name_Ryzen 5       744 non-null    int64\n",
            " 31  processor_name_Ryzen 7       744 non-null    int64\n",
            " 32  processor_name_Ryzen 9       744 non-null    int64\n",
            " 33  ram_type_DDR3                744 non-null    int64\n",
            " 34  ram_type_DDR4                744 non-null    int64\n",
            " 35  ram_type_DDR5                744 non-null    int64\n",
            " 36  ram_type_LPDDR3              744 non-null    int64\n",
            " 37  ram_type_LPDDR4              744 non-null    int64\n",
            " 38  ram_type_LPDDR4X             744 non-null    int64\n",
            " 39  os_DOS                       744 non-null    int64\n",
            " 40  os_Mac                       744 non-null    int64\n",
            " 41  os_Windows                   744 non-null    int64\n",
            " 42  weight_Casual                744 non-null    int64\n",
            " 43  weight_Gaming                744 non-null    int64\n",
            " 44  weight_ThinNlight            744 non-null    int64\n",
            "dtypes: int64(45)\n",
            "memory usage: 261.7 KB\n"
          ]
        }
      ]
    },
    {
      "cell_type": "markdown",
      "source": [
        "# 3. Model Building"
      ],
      "metadata": {
        "id": "HLVBmPQFT1W1"
      }
    },
    {
      "cell_type": "markdown",
      "source": [
        "Now, we are ready to feed data to our models.\\\n",
        "let's split the data into X,y then split them into training and testing sets."
      ],
      "metadata": {
        "id": "ucOtAzOOT7aD"
      }
    },
    {
      "cell_type": "code",
      "source": [
        "X = df.drop('Price', axis=1)\n",
        "y = df['Price']"
      ],
      "metadata": {
        "id": "Bg8U5BfUxTek"
      },
      "execution_count": 24,
      "outputs": []
    },
    {
      "cell_type": "code",
      "source": [
        "print(f'Features shape : {X.shape}')\n",
        "print(f'Target shape : {y.shape}')"
      ],
      "metadata": {
        "colab": {
          "base_uri": "https://localhost:8080/"
        },
        "id": "zvHY8sg1QMUO",
        "outputId": "ef4a2b3a-a303-4af8-ffb2-d67f97b2c5c1"
      },
      "execution_count": 25,
      "outputs": [
        {
          "output_type": "stream",
          "name": "stdout",
          "text": [
            "Features shape : (744, 44)\n",
            "Target shape : (744,)\n"
          ]
        }
      ]
    },
    {
      "cell_type": "code",
      "source": [
        "X_train, X_test, y_train, y_test = train_test_split(X, y, test_size=0.2, random_state=42)"
      ],
      "metadata": {
        "id": "pwfAciPKxXOq"
      },
      "execution_count": 26,
      "outputs": []
    },
    {
      "cell_type": "markdown",
      "source": [
        "### 3.1 Linear Regression Model"
      ],
      "metadata": {
        "id": "-4Ihxj0fUf32"
      }
    },
    {
      "cell_type": "code",
      "source": [
        "lr = LinearRegression()\n",
        "lr.fit(X_train, y_train)\n",
        "y_pred_lr = lr.predict(X_test)\n",
        "print(mean_squared_error(y_test, y_pred_lr))\n",
        "print(r2_score(y_test, y_pred_lr))"
      ],
      "metadata": {
        "colab": {
          "base_uri": "https://localhost:8080/"
        },
        "id": "NG46JHYLxcW_",
        "outputId": "8855dcb8-6871-4ff2-f578-89b2d00a39dd"
      },
      "execution_count": 27,
      "outputs": [
        {
          "output_type": "stream",
          "name": "stdout",
          "text": [
            "129032078.22892188\n",
            "0.850079706606199\n"
          ]
        }
      ]
    },
    {
      "cell_type": "code",
      "source": [
        "plt.scatter(y_test, y_pred_lr)\n",
        "plt.xlabel('Actual')\n",
        "plt.ylabel('Predicted')\n",
        "plt.title('Linear Regression')\n",
        "\n",
        "plt.plot(y_test,y_test, color='red')\n",
        "plt.show()"
      ],
      "metadata": {
        "colab": {
          "base_uri": "https://localhost:8080/",
          "height": 472
        },
        "id": "ZE-DFYT8a4vE",
        "outputId": "8f6e3f2f-a05b-4142-dcf1-e22156fb3ed1"
      },
      "execution_count": 28,
      "outputs": [
        {
          "output_type": "display_data",
          "data": {
            "text/plain": [
              "<Figure size 640x480 with 1 Axes>"
            ],
            "image/png": "[encoded data removed]"
          },
          "metadata": {}
        }
      ]
    },
    {
      "cell_type": "markdown",
      "source": [
        "### 3.2 Decision Tree Model"
      ],
      "metadata": {
        "id": "jfVmq81fZ2pt"
      }
    },
    {
      "cell_type": "code",
      "source": [
        "dt = DecisionTreeRegressor(random_state=42)\n",
        "dt.fit(X_train, y_train)\n",
        "y_pred_dt = dt.predict(X_test)\n",
        "print(mean_squared_error(y_test, y_pred_dt))\n",
        "print(r2_score(y_test, y_pred_dt))"
      ],
      "metadata": {
        "colab": {
          "base_uri": "https://localhost:8080/"
        },
        "id": "bcJk1QEwHKHg",
        "outputId": "fe3ff694-5ad7-46ae-c76b-b160227bf9f6"
      },
      "execution_count": 29,
      "outputs": [
        {
          "output_type": "stream",
          "name": "stdout",
          "text": [
            "300402874.38460106\n",
            "0.6509667387966954\n"
          ]
        }
      ]
    },
    {
      "cell_type": "code",
      "source": [
        "plt.scatter(y_test, y_pred_dt)\n",
        "plt.xlabel('Actual')\n",
        "plt.ylabel('Predicted')\n",
        "plt.title('Decision Tree Regression')\n",
        "\n",
        "plt.plot(y_test,y_test, color='red')\n",
        "plt.show()"
      ],
      "metadata": {
        "colab": {
          "base_uri": "https://localhost:8080/",
          "height": 472
        },
        "id": "iH3yN5JdaxSW",
        "outputId": "20667b0e-4270-4198-a6dd-a15713f313bd"
      },
      "execution_count": 30,
      "outputs": [
        {
          "output_type": "display_data",
          "data": {
            "text/plain": [
              "<Figure size 640x480 with 1 Axes>"
            ],
            "image/png": "[encoded data removed]"
          },
          "metadata": {}
        }
      ]
    },
    {
      "cell_type": "markdown",
      "source": [
        "### 3.3 Random Forest Model"
      ],
      "metadata": {
        "id": "rulsiDMFZ-XD"
      }
    },
    {
      "cell_type": "code",
      "source": [
        "rf = RandomForestRegressor(n_estimators=100, random_state=42)\n",
        "rf.fit(X_train, y_train)\n",
        "y_pred_rf = rf.predict(X_test)\n",
        "print(mean_squared_error(y_test, y_pred_rf))\n",
        "print(r2_score(y_test, y_pred_rf))"
      ],
      "metadata": {
        "colab": {
          "base_uri": "https://localhost:8080/"
        },
        "id": "4ACxe-BMHb8Q",
        "outputId": "738dae76-64a3-47d5-9faf-454fa0d053d8"
      },
      "execution_count": 31,
      "outputs": [
        {
          "output_type": "stream",
          "name": "stdout",
          "text": [
            "142010233.79376107\n",
            "0.8350005966926228\n"
          ]
        }
      ]
    },
    {
      "cell_type": "code",
      "source": [
        "plt.scatter(y_test, y_pred_rf)\n",
        "plt.xlabel('Actual')\n",
        "plt.ylabel('Predicted')\n",
        "plt.title('Random Forest Regression')\n",
        "\n",
        "plt.plot(y_test,y_test, color='red')\n",
        "plt.show()"
      ],
      "metadata": {
        "colab": {
          "base_uri": "https://localhost:8080/",
          "height": 472
        },
        "id": "pwn7rl7AabSP",
        "outputId": "9cdbedab-4d2c-45e7-9a14-67a87200cb0d"
      },
      "execution_count": 32,
      "outputs": [
        {
          "output_type": "display_data",
          "data": {
            "text/plain": [
              "<Figure size 640x480 with 1 Axes>"
            ],
            "image/png": "[encoded data removed]"
          },
          "metadata": {}
        }
      ]
    }
  ]
}